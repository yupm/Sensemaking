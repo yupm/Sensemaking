{
 "cells": [
  {
   "cell_type": "code",
   "execution_count": 1,
   "metadata": {},
   "outputs": [
    {
     "name": "stderr",
     "output_type": "stream",
     "text": [
      "C:\\Users\\hys19\\Anaconda3\\lib\\site-packages\\h5py\\__init__.py:34: FutureWarning: Conversion of the second argument of issubdtype from `float` to `np.floating` is deprecated. In future, it will be treated as `np.float64 == np.dtype(float).type`.\n",
      "  from ._conv import register_converters as _register_converters\n",
      "Using TensorFlow backend.\n"
     ]
    }
   ],
   "source": [
    "import timeit\n",
    "import scipy.io as sio\n",
    "import scipy\n",
    "import os\n",
    "import random as rn\n",
    "import numpy as np\n",
    "from tensorflow import set_random_seed\n",
    "import tensorflow as tf\n",
    "os.environ['PYTHONHASHSEED'] = '0'\n",
    "os.environ[\"CUDA_VISIBLE_DEVICES\"]=\"-1\"\n",
    "rn.seed(123)\n",
    "np.random.seed(123)\n",
    "set_random_seed(123)\n",
    "tf.set_random_seed(123)\n",
    "session_conf = tf.ConfigProto(intra_op_parallelism_threads=1, inter_op_parallelism_threads=1)\n",
    "sess = tf.Session(graph=tf.get_default_graph(), config=session_conf)\n",
    "from keras import backend as K\n",
    "K.set_session(sess)\n",
    "import pandas as pd\n",
    "from pathlib import Path\n",
    "from keras.callbacks import EarlyStopping, ModelCheckpoint\n",
    "from tcn import compiled_tcn\n",
    "from sklearn.model_selection import train_test_split\n",
    "from sklearn.metrics import confusion_matrix, classification_report\n",
    "from keras.utils import to_categorical\n",
    "import pickle\n",
    "import matplotlib.pyplot as plt\n",
    "%matplotlib inline"
   ]
  },
  {
   "cell_type": "code",
   "execution_count": 2,
   "metadata": {
    "collapsed": true,
    "scrolled": true
   },
   "outputs": [],
   "source": [
    "def import_skeleton_data(action, subject, trial):\n",
    "    filename = f'Kinect2Dataset/Skeleton/a{action}_s{subject}_t{trial}_skeleton.mat'\n",
    "    if Path(filename).is_file():\n",
    "        mat = scipy.io.loadmat(filename)\n",
    "        return mat['d_skel']\n",
    "    else:\n",
    "        return None\n",
    "\n",
    "def transform_skeleton_data(action, subject, trial):\n",
    "    matrices = []\n",
    "    data = import_skeleton_data(action, subject, trial)\n",
    "    if data is None: return None\n",
    "    for frame in range(data.shape[2]):\n",
    "        skelecton_joints = [i + 1 for i in range(20)]\n",
    "        matrix = data[:,:,frame]\n",
    "        matrix = np.insert(matrix, 0, skelecton_joints, axis=1)\n",
    "        matrix = np.insert(matrix, 0, frame, axis=1)\n",
    "        matrices.append(matrix)\n",
    "    result = np.vstack(tuple(matrices))\n",
    "    result = np.insert(result, 0, [[action], [subject], [trial]], axis=1)\n",
    "    return result\n",
    "\n",
    "def transform_skeleton_data_to_df(action, subject, trial):\n",
    "    data = transform_skeleton_data(action, subject, trial)\n",
    "    if data is None: return None\n",
    "    df = pd.DataFrame(data)\n",
    "    df.columns = ['action', 'subject', 'trial', 'frame', 'skeleton_joint', 'x', 'y', 'z']\n",
    "    return df"
   ]
  },
  {
   "cell_type": "code",
   "execution_count": 3,
   "metadata": {
    "collapsed": true
   },
   "outputs": [],
   "source": [
    "# Read in all data\n",
    "trial_end = 4\n",
    "activity_end = 27\n",
    "subject_end = 8\n",
    "\n",
    "master_df = pd.DataFrame({'action': [], 'subject': [], 'trial': [], 'frame': [], 'skeleton_joint':[], 'x':[], 'y':[], 'z':[]})\n",
    "\n",
    "for activity in range(1,activity_end+1):\n",
    "    for subject in range(1,subject_end+1):  \n",
    "        for trial in range(1,trial_end+1):\n",
    "            temp_df = transform_skeleton_data_to_df(activity, subject, trial)\n",
    "            master_df = pd.concat([master_df, temp_df])"
   ]
  },
  {
   "cell_type": "code",
   "execution_count": 4,
   "metadata": {
    "collapsed": true
   },
   "outputs": [],
   "source": [
    "# Transpose skeleton_joint column\n",
    "for skeleton in list(master_df.skeleton_joint.unique()):\n",
    "    temp_df_by_skel = master_df.loc[master_df['skeleton_joint'] == skeleton]\n",
    "    temp_df_by_skel = temp_df_by_skel.rename(columns={'x': 'x'+str(int(skeleton)), \n",
    "                                                      'y': 'y'+str(int(skeleton)), \n",
    "                                                      'z': 'z'+str(int(skeleton))})\n",
    "    temp_df_by_skel = temp_df_by_skel.drop(['skeleton_joint'], axis=1)\n",
    "    if skeleton == 1.0:\n",
    "        transformed = temp_df_by_skel\n",
    "    else:\n",
    "        transformed = transformed.merge(temp_df_by_skel, on=['action','subject','trial','frame'], how='left')\n",
    "transformed = transformed.sort_values(by=['action','subject','trial','frame'])"
   ]
  },
  {
   "cell_type": "code",
   "execution_count": 5,
   "metadata": {
    "collapsed": true
   },
   "outputs": [],
   "source": [
    "# Compute position of joints relative to hip centre (no. 4)\n",
    "# Normalize by the distance between hip centre and shoulder centre (no. 2)\n",
    "transformed[\"dist_hip_shldr_ctr\"] = np.sqrt( (transformed[\"x2\"]-transformed[\"x4\"])*(transformed[\"x2\"]-transformed[\"x4\"]) +\n",
    "                                          (transformed[\"y2\"]-transformed[\"y4\"])*(transformed[\"y2\"]-transformed[\"y4\"]) +\n",
    "                                          (transformed[\"z2\"]-transformed[\"z4\"])*(transformed[\"z2\"]-transformed[\"z4\"]) )\n",
    "for joint in range(1,21):\n",
    "    if joint == 4:\n",
    "        continue\n",
    "    transformed[\"x4.{0}\".format(joint)] = (transformed[\"x{0}\".format(joint)] - transformed[\"x4\"])/transformed[\"dist_hip_shldr_ctr\"]\n",
    "    transformed[\"y4.{0}\".format(joint)] = (transformed[\"y{0}\".format(joint)] - transformed[\"y4\"])/transformed[\"dist_hip_shldr_ctr\"]\n",
    "    transformed[\"z4.{0}\".format(joint)] = (transformed[\"z{0}\".format(joint)] - transformed[\"z4\"])/transformed[\"dist_hip_shldr_ctr\"]\n",
    "    \n",
    "for joint in range(1,21):\n",
    "    transformed.drop(\"x{0}\".format(joint), axis=1, inplace=True)\n",
    "    transformed.drop(\"y{0}\".format(joint), axis=1, inplace=True)\n",
    "    transformed.drop(\"z{0}\".format(joint), axis=1, inplace=True)\n",
    "    \n",
    "transformed.drop(\"dist_hip_shldr_ctr\", axis=1, inplace=True)"
   ]
  },
  {
   "cell_type": "code",
   "execution_count": 6,
   "metadata": {},
   "outputs": [
    {
     "data": {
      "text/plain": [
       "((604, 125, 57), (260, 125, 57), (604, 28), (260, 28))"
      ]
     },
     "execution_count": 6,
     "metadata": {},
     "output_type": "execute_result"
    }
   ],
   "source": [
    "# Prepare data for training: Zero padding to ensure sequences are of equal length, Data partition (70%-30%)\n",
    "finalX = []\n",
    "finaly = []\n",
    "for activity in range(1,activity_end+1):\n",
    "    for subject in range(1,subject_end+1):  \n",
    "        for trial in range(1,trial_end+1):\n",
    "            temp = transformed.loc[(transformed['action'] == activity) & \n",
    "                                   (transformed['subject'] == subject) &\n",
    "                                   (transformed['trial'] == trial)]\n",
    "            tempX = temp.filter(regex='[xyz].*')\n",
    "            tempX = tempX.values\n",
    "            tempy = temp['action'].values[0]\n",
    "            finaly.append(tempy)\n",
    "            npad = ((125-tempX.shape[0], 0), (0, 0))\n",
    "            tempX = np.pad(tempX, pad_width=npad, mode='constant', constant_values=0)\n",
    "            finalX.append(tempX)\n",
    "            \n",
    "finalX = np.stack(finalX)\n",
    "finaly = np.stack(finaly)\n",
    "finaly = to_categorical(finaly)\n",
    "\n",
    "X_train, X_test, y_train, y_test = train_test_split(finalX, finaly, test_size=0.3, random_state=1)\n",
    "X_train.shape, X_test.shape, y_train.shape, y_test.shape"
   ]
  },
  {
   "cell_type": "code",
   "execution_count": 7,
   "metadata": {},
   "outputs": [
    {
     "name": "stdout",
     "output_type": "stream",
     "text": [
      "x.shape= (?, 50)\n",
      "model.x = (?, 125, 57)\n",
      "model.y = (?, 28)\n",
      "Adam with norm clipping.\n"
     ]
    }
   ],
   "source": [
    "# Temporal Convolutional Network (TCN)\n",
    "# https://github.com/philipperemy/keras-tcn\n",
    "model = compiled_tcn(return_sequences=False,\n",
    "                        num_feat=X_train.shape[2],\n",
    "                        num_classes=y_train.shape[1],\n",
    "                        nb_filters=50,\n",
    "                        kernel_size=20,\n",
    "                        dilations=[2 ** i for i in range(3)],\n",
    "                        nb_stacks=1,\n",
    "                        max_len=X_train[0:1].shape[1],\n",
    "                        activation='norm_relu',\n",
    "                        use_skip_connections=True)"
   ]
  },
  {
   "cell_type": "code",
   "execution_count": 8,
   "metadata": {},
   "outputs": [
    {
     "name": "stdout",
     "output_type": "stream",
     "text": [
      "__________________________________________________________________________________________________\n",
      "Layer (type)                    Output Shape         Param #     Connected to                     \n",
      "==================================================================================================\n",
      "input_1 (InputLayer)            (None, 125, 57)      0                                            \n",
      "__________________________________________________________________________________________________\n",
      "tcn_initial_conv (Conv1D)       (None, 125, 50)      2900        input_1[0][0]                    \n",
      "__________________________________________________________________________________________________\n",
      "tcn_dilated_conv_1_tanh_s0 (Con (None, 125, 50)      50050       tcn_initial_conv[0][0]           \n",
      "__________________________________________________________________________________________________\n",
      "activation_1 (Activation)       (None, 125, 50)      0           tcn_dilated_conv_1_tanh_s0[0][0] \n",
      "__________________________________________________________________________________________________\n",
      "lambda_1 (Lambda)               (None, 125, 50)      0           activation_1[0][0]               \n",
      "__________________________________________________________________________________________________\n",
      "tcn_spatial_dropout1d_1_s0_0.05 (None, 125, 50)      0           lambda_1[0][0]                   \n",
      "__________________________________________________________________________________________________\n",
      "conv1d_1 (Conv1D)               (None, 125, 50)      2550        tcn_spatial_dropout1d_1_s0_0.0500\n",
      "__________________________________________________________________________________________________\n",
      "add_1 (Add)                     (None, 125, 50)      0           tcn_initial_conv[0][0]           \n",
      "                                                                 conv1d_1[0][0]                   \n",
      "__________________________________________________________________________________________________\n",
      "tcn_dilated_conv_2_tanh_s0 (Con (None, 125, 50)      50050       add_1[0][0]                      \n",
      "__________________________________________________________________________________________________\n",
      "activation_2 (Activation)       (None, 125, 50)      0           tcn_dilated_conv_2_tanh_s0[0][0] \n",
      "__________________________________________________________________________________________________\n",
      "lambda_2 (Lambda)               (None, 125, 50)      0           activation_2[0][0]               \n",
      "__________________________________________________________________________________________________\n",
      "tcn_spatial_dropout1d_2_s0_0.05 (None, 125, 50)      0           lambda_2[0][0]                   \n",
      "__________________________________________________________________________________________________\n",
      "conv1d_2 (Conv1D)               (None, 125, 50)      2550        tcn_spatial_dropout1d_2_s0_0.0500\n",
      "__________________________________________________________________________________________________\n",
      "add_2 (Add)                     (None, 125, 50)      0           add_1[0][0]                      \n",
      "                                                                 conv1d_2[0][0]                   \n",
      "__________________________________________________________________________________________________\n",
      "tcn_dilated_conv_4_tanh_s0 (Con (None, 125, 50)      50050       add_2[0][0]                      \n",
      "__________________________________________________________________________________________________\n",
      "activation_3 (Activation)       (None, 125, 50)      0           tcn_dilated_conv_4_tanh_s0[0][0] \n",
      "__________________________________________________________________________________________________\n",
      "lambda_3 (Lambda)               (None, 125, 50)      0           activation_3[0][0]               \n",
      "__________________________________________________________________________________________________\n",
      "tcn_spatial_dropout1d_4_s0_0.05 (None, 125, 50)      0           lambda_3[0][0]                   \n",
      "__________________________________________________________________________________________________\n",
      "conv1d_3 (Conv1D)               (None, 125, 50)      2550        tcn_spatial_dropout1d_4_s0_0.0500\n",
      "__________________________________________________________________________________________________\n",
      "add_4 (Add)                     (None, 125, 50)      0           conv1d_1[0][0]                   \n",
      "                                                                 conv1d_2[0][0]                   \n",
      "                                                                 conv1d_3[0][0]                   \n",
      "__________________________________________________________________________________________________\n",
      "activation_4 (Activation)       (None, 125, 50)      0           add_4[0][0]                      \n",
      "__________________________________________________________________________________________________\n",
      "lambda_4 (Lambda)               (None, 50)           0           activation_4[0][0]               \n",
      "__________________________________________________________________________________________________\n",
      "dense_1 (Dense)                 (None, 28)           1428        lambda_4[0][0]                   \n",
      "__________________________________________________________________________________________________\n",
      "activation_5 (Activation)       (None, 28)           0           dense_1[0][0]                    \n",
      "==================================================================================================\n",
      "Total params: 162,128\n",
      "Trainable params: 162,128\n",
      "Non-trainable params: 0\n",
      "__________________________________________________________________________________________________\n",
      "None\n"
     ]
    }
   ],
   "source": [
    "print(model.summary())"
   ]
  },
  {
   "cell_type": "code",
   "execution_count": 9,
   "metadata": {
    "collapsed": true
   },
   "outputs": [],
   "source": [
    "# Stop training when validation loss doesn't improve after 30 epochs\n",
    "# Save the best model in terms of validation loss\n",
    "earlyStopping = EarlyStopping(monitor='val_loss', patience=30, verbose=0, mode='min')\n",
    "mcp_save = ModelCheckpoint('Skeleton model files/TCN_skeleton_refcoords.hdf5', save_best_only=True, monitor='val_loss', mode='min')"
   ]
  },
  {
   "cell_type": "code",
   "execution_count": 10,
   "metadata": {},
   "outputs": [
    {
     "name": "stdout",
     "output_type": "stream",
     "text": [
      "Train on 604 samples, validate on 260 samples\n",
      "Epoch 1/10000\n",
      "604/604 [==============================] - 12s 19ms/step - loss: 3.2937 - acc: 0.0563 - val_loss: 3.2171 - val_acc: 0.1000\n",
      "Epoch 2/10000\n",
      "604/604 [==============================] - 11s 19ms/step - loss: 2.9668 - acc: 0.1821 - val_loss: 2.7722 - val_acc: 0.1885\n",
      "Epoch 3/10000\n",
      "604/604 [==============================] - 11s 19ms/step - loss: 2.4773 - acc: 0.2897 - val_loss: 2.3415 - val_acc: 0.3000\n",
      "Epoch 4/10000\n",
      "604/604 [==============================] - 11s 18ms/step - loss: 2.0238 - acc: 0.4387 - val_loss: 1.9311 - val_acc: 0.4731\n",
      "Epoch 5/10000\n",
      "604/604 [==============================] - 11s 18ms/step - loss: 1.6862 - acc: 0.5579 - val_loss: 1.6419 - val_acc: 0.5154\n",
      "Epoch 6/10000\n",
      "604/604 [==============================] - 11s 18ms/step - loss: 1.3691 - acc: 0.6424 - val_loss: 1.3823 - val_acc: 0.6115\n",
      "Epoch 7/10000\n",
      "604/604 [==============================] - 11s 18ms/step - loss: 1.1225 - acc: 0.7086 - val_loss: 1.0957 - val_acc: 0.7423\n",
      "Epoch 8/10000\n",
      "604/604 [==============================] - 11s 18ms/step - loss: 0.8964 - acc: 0.7715 - val_loss: 0.9087 - val_acc: 0.7654\n",
      "Epoch 9/10000\n",
      "604/604 [==============================] - 11s 18ms/step - loss: 0.7046 - acc: 0.8493 - val_loss: 0.8317 - val_acc: 0.7538\n",
      "Epoch 10/10000\n",
      "604/604 [==============================] - 11s 18ms/step - loss: 0.5673 - acc: 0.8626 - val_loss: 0.6581 - val_acc: 0.8077\n",
      "Epoch 11/10000\n",
      "604/604 [==============================] - 11s 18ms/step - loss: 0.4640 - acc: 0.8957 - val_loss: 0.6437 - val_acc: 0.7962\n",
      "Epoch 12/10000\n",
      "604/604 [==============================] - 11s 18ms/step - loss: 0.3704 - acc: 0.9272 - val_loss: 0.5669 - val_acc: 0.7808\n",
      "Epoch 13/10000\n",
      "604/604 [==============================] - 11s 17ms/step - loss: 0.3136 - acc: 0.9454 - val_loss: 0.4680 - val_acc: 0.8769\n",
      "Epoch 14/10000\n",
      "604/604 [==============================] - 11s 18ms/step - loss: 0.2678 - acc: 0.9470 - val_loss: 0.4471 - val_acc: 0.8538\n",
      "Epoch 15/10000\n",
      "604/604 [==============================] - 11s 18ms/step - loss: 0.2002 - acc: 0.9685 - val_loss: 0.3928 - val_acc: 0.8692\n",
      "Epoch 16/10000\n",
      "604/604 [==============================] - 11s 18ms/step - loss: 0.1792 - acc: 0.9586 - val_loss: 0.3779 - val_acc: 0.8962\n",
      "Epoch 17/10000\n",
      "604/604 [==============================] - 11s 18ms/step - loss: 0.1401 - acc: 0.9719 - val_loss: 0.3552 - val_acc: 0.8808\n",
      "Epoch 18/10000\n",
      "604/604 [==============================] - 11s 18ms/step - loss: 0.1064 - acc: 0.9818 - val_loss: 0.3278 - val_acc: 0.8846\n",
      "Epoch 19/10000\n",
      "604/604 [==============================] - 11s 18ms/step - loss: 0.1150 - acc: 0.9801 - val_loss: 0.3091 - val_acc: 0.9038\n",
      "Epoch 20/10000\n",
      "604/604 [==============================] - 11s 18ms/step - loss: 0.0949 - acc: 0.9768 - val_loss: 0.2591 - val_acc: 0.9192\n",
      "Epoch 21/10000\n",
      "604/604 [==============================] - 11s 18ms/step - loss: 0.0744 - acc: 0.9917 - val_loss: 0.2757 - val_acc: 0.9115\n",
      "Epoch 22/10000\n",
      "604/604 [==============================] - 11s 17ms/step - loss: 0.0527 - acc: 0.9950 - val_loss: 0.2476 - val_acc: 0.9269\n",
      "Epoch 23/10000\n",
      "604/604 [==============================] - 11s 18ms/step - loss: 0.0415 - acc: 0.9983 - val_loss: 0.2004 - val_acc: 0.9423\n",
      "Epoch 24/10000\n",
      "604/604 [==============================] - 10s 17ms/step - loss: 0.0372 - acc: 0.9934 - val_loss: 0.2432 - val_acc: 0.9231\n",
      "Epoch 25/10000\n",
      "604/604 [==============================] - 11s 18ms/step - loss: 0.0299 - acc: 0.9983 - val_loss: 0.2505 - val_acc: 0.9192\n",
      "Epoch 26/10000\n",
      "604/604 [==============================] - 11s 18ms/step - loss: 0.0222 - acc: 0.9983 - val_loss: 0.2550 - val_acc: 0.9192\n",
      "Epoch 27/10000\n",
      "604/604 [==============================] - 11s 18ms/step - loss: 0.0268 - acc: 0.9967 - val_loss: 0.2624 - val_acc: 0.9269\n",
      "Epoch 28/10000\n",
      "604/604 [==============================] - 11s 18ms/step - loss: 0.0234 - acc: 0.9950 - val_loss: 0.2050 - val_acc: 0.9346\n",
      "Epoch 29/10000\n",
      "604/604 [==============================] - 11s 19ms/step - loss: 0.0147 - acc: 1.0000 - val_loss: 0.1818 - val_acc: 0.9385\n",
      "Epoch 30/10000\n",
      "604/604 [==============================] - 11s 19ms/step - loss: 0.0180 - acc: 0.9983 - val_loss: 0.2096 - val_acc: 0.9385\n",
      "Epoch 31/10000\n",
      "604/604 [==============================] - 11s 19ms/step - loss: 0.0221 - acc: 0.9950 - val_loss: 0.2126 - val_acc: 0.9346\n",
      "Epoch 32/10000\n",
      "604/604 [==============================] - 11s 18ms/step - loss: 0.0141 - acc: 1.0000 - val_loss: 0.2562 - val_acc: 0.9192\n",
      "Epoch 33/10000\n",
      "604/604 [==============================] - 11s 19ms/step - loss: 0.0199 - acc: 0.9967 - val_loss: 0.2307 - val_acc: 0.9192\n",
      "Epoch 34/10000\n",
      "604/604 [==============================] - 11s 18ms/step - loss: 0.0136 - acc: 0.9983 - val_loss: 0.2646 - val_acc: 0.9231\n",
      "Epoch 35/10000\n",
      "604/604 [==============================] - 11s 18ms/step - loss: 0.0121 - acc: 0.9983 - val_loss: 0.2161 - val_acc: 0.9462\n",
      "Epoch 36/10000\n",
      "604/604 [==============================] - 11s 18ms/step - loss: 0.0066 - acc: 1.0000 - val_loss: 0.2507 - val_acc: 0.9385\n",
      "Epoch 37/10000\n",
      "604/604 [==============================] - 11s 19ms/step - loss: 0.0063 - acc: 1.0000 - val_loss: 0.1359 - val_acc: 0.9538\n",
      "Epoch 38/10000\n",
      "604/604 [==============================] - 11s 18ms/step - loss: 0.0042 - acc: 1.0000 - val_loss: 0.1637 - val_acc: 0.9654\n",
      "Epoch 39/10000\n",
      "604/604 [==============================] - 11s 18ms/step - loss: 0.0037 - acc: 1.0000 - val_loss: 0.1635 - val_acc: 0.9500\n",
      "Epoch 40/10000\n",
      "604/604 [==============================] - 11s 18ms/step - loss: 0.0035 - acc: 1.0000 - val_loss: 0.1498 - val_acc: 0.9538\n",
      "Epoch 41/10000\n",
      "604/604 [==============================] - 11s 18ms/step - loss: 0.0027 - acc: 1.0000 - val_loss: 0.1461 - val_acc: 0.9500\n",
      "Epoch 42/10000\n",
      "604/604 [==============================] - 11s 18ms/step - loss: 0.0025 - acc: 1.0000 - val_loss: 0.1446 - val_acc: 0.9654\n",
      "Epoch 43/10000\n",
      "604/604 [==============================] - 11s 18ms/step - loss: 0.0017 - acc: 1.0000 - val_loss: 0.1372 - val_acc: 0.9692\n",
      "Epoch 44/10000\n",
      "604/604 [==============================] - 11s 18ms/step - loss: 0.0016 - acc: 1.0000 - val_loss: 0.1407 - val_acc: 0.9615\n",
      "Epoch 45/10000\n",
      "604/604 [==============================] - 11s 18ms/step - loss: 0.0014 - acc: 1.0000 - val_loss: 0.1315 - val_acc: 0.9692\n",
      "Epoch 46/10000\n",
      "604/604 [==============================] - 11s 18ms/step - loss: 0.0012 - acc: 1.0000 - val_loss: 0.1333 - val_acc: 0.9692\n",
      "Epoch 47/10000\n",
      "604/604 [==============================] - 11s 18ms/step - loss: 0.0013 - acc: 1.0000 - val_loss: 0.1410 - val_acc: 0.9615\n",
      "Epoch 48/10000\n",
      "604/604 [==============================] - 11s 19ms/step - loss: 0.0015 - acc: 1.0000 - val_loss: 0.1429 - val_acc: 0.9654\n",
      "Epoch 49/10000\n",
      "604/604 [==============================] - 11s 18ms/step - loss: 0.0011 - acc: 1.0000 - val_loss: 0.1420 - val_acc: 0.9654\n",
      "Epoch 50/10000\n",
      "604/604 [==============================] - 12s 20ms/step - loss: 0.0012 - acc: 1.0000 - val_loss: 0.1535 - val_acc: 0.9615\n",
      "Epoch 51/10000\n",
      "604/604 [==============================] - 11s 18ms/step - loss: 8.9648e-04 - acc: 1.0000 - val_loss: 0.1356 - val_acc: 0.9654\n",
      "Epoch 52/10000\n",
      "604/604 [==============================] - 11s 18ms/step - loss: 0.0014 - acc: 1.0000 - val_loss: 0.1377 - val_acc: 0.9654\n",
      "Epoch 53/10000\n",
      "604/604 [==============================] - 11s 18ms/step - loss: 0.0014 - acc: 1.0000 - val_loss: 0.1535 - val_acc: 0.9462\n",
      "Epoch 54/10000\n",
      "604/604 [==============================] - 11s 18ms/step - loss: 0.0012 - acc: 1.0000 - val_loss: 0.1428 - val_acc: 0.9538\n",
      "Epoch 55/10000\n",
      "604/604 [==============================] - 11s 18ms/step - loss: 9.6921e-04 - acc: 1.0000 - val_loss: 0.1419 - val_acc: 0.9577\n",
      "Epoch 56/10000\n",
      "604/604 [==============================] - 11s 17ms/step - loss: 8.5740e-04 - acc: 1.0000 - val_loss: 0.1401 - val_acc: 0.9615\n",
      "Epoch 57/10000\n",
      "604/604 [==============================] - 11s 18ms/step - loss: 8.9742e-04 - acc: 1.0000 - val_loss: 0.1449 - val_acc: 0.9577\n",
      "Epoch 58/10000\n",
      "604/604 [==============================] - 11s 18ms/step - loss: 6.9356e-04 - acc: 1.0000 - val_loss: 0.1479 - val_acc: 0.9615\n",
      "Epoch 59/10000\n",
      "604/604 [==============================] - 11s 18ms/step - loss: 7.1407e-04 - acc: 1.0000 - val_loss: 0.1471 - val_acc: 0.9615\n"
     ]
    },
    {
     "name": "stdout",
     "output_type": "stream",
     "text": [
      "Epoch 60/10000\n",
      "604/604 [==============================] - 11s 18ms/step - loss: 6.5804e-04 - acc: 1.0000 - val_loss: 0.1453 - val_acc: 0.9615\n",
      "Epoch 61/10000\n",
      "604/604 [==============================] - 11s 18ms/step - loss: 8.7242e-04 - acc: 1.0000 - val_loss: 0.1635 - val_acc: 0.9538\n",
      "Epoch 62/10000\n",
      "604/604 [==============================] - 11s 18ms/step - loss: 9.9747e-04 - acc: 1.0000 - val_loss: 0.1414 - val_acc: 0.9654\n",
      "Epoch 63/10000\n",
      "604/604 [==============================] - 11s 18ms/step - loss: 7.1401e-04 - acc: 1.0000 - val_loss: 0.1560 - val_acc: 0.9577\n",
      "Epoch 64/10000\n",
      "604/604 [==============================] - 11s 18ms/step - loss: 7.3747e-04 - acc: 1.0000 - val_loss: 0.1469 - val_acc: 0.9615\n",
      "Epoch 65/10000\n",
      "604/604 [==============================] - 11s 18ms/step - loss: 8.2804e-04 - acc: 1.0000 - val_loss: 0.1428 - val_acc: 0.9654\n",
      "Epoch 66/10000\n",
      "604/604 [==============================] - 11s 18ms/step - loss: 6.9786e-04 - acc: 1.0000 - val_loss: 0.1485 - val_acc: 0.9577\n",
      "Epoch 67/10000\n",
      "604/604 [==============================] - 11s 18ms/step - loss: 8.7022e-04 - acc: 1.0000 - val_loss: 0.1530 - val_acc: 0.9538\n",
      "Epoch 68/10000\n",
      "604/604 [==============================] - 11s 19ms/step - loss: 8.8557e-04 - acc: 1.0000 - val_loss: 0.1541 - val_acc: 0.9692\n",
      "Epoch 69/10000\n",
      "604/604 [==============================] - 10s 17ms/step - loss: 0.0012 - acc: 1.0000 - val_loss: 0.1637 - val_acc: 0.9538\n",
      "Epoch 70/10000\n",
      "604/604 [==============================] - 11s 19ms/step - loss: 8.1056e-04 - acc: 1.0000 - val_loss: 0.1641 - val_acc: 0.9577\n",
      "Epoch 71/10000\n",
      "604/604 [==============================] - 11s 18ms/step - loss: 6.7947e-04 - acc: 1.0000 - val_loss: 0.1640 - val_acc: 0.9577\n",
      "Epoch 72/10000\n",
      "604/604 [==============================] - 11s 18ms/step - loss: 5.4671e-04 - acc: 1.0000 - val_loss: 0.1667 - val_acc: 0.9577\n",
      "Epoch 73/10000\n",
      "604/604 [==============================] - 11s 18ms/step - loss: 6.0784e-04 - acc: 1.0000 - val_loss: 0.1477 - val_acc: 0.9615\n",
      "Epoch 74/10000\n",
      "604/604 [==============================] - 10s 17ms/step - loss: 5.9260e-04 - acc: 1.0000 - val_loss: 0.1429 - val_acc: 0.9577\n",
      "Epoch 75/10000\n",
      "604/604 [==============================] - 11s 18ms/step - loss: 5.4812e-04 - acc: 1.0000 - val_loss: 0.1470 - val_acc: 0.9577\n",
      "Time taken: 820.8895521734336s\n"
     ]
    }
   ],
   "source": [
    "start_time = timeit.default_timer()\n",
    "TCNRef_Hist = model.fit(X_train, y_train.squeeze().argmax(axis=1), validation_data=(X_test, y_test.squeeze().argmax(axis=1)), epochs=10000, batch_size=32, callbacks=[earlyStopping, mcp_save])\n",
    "elapsed = timeit.default_timer() - start_time\n",
    "print(\"Time taken: \" + str(elapsed) + \"s\")\n",
    "model.load_weights('Skeleton model files/TCN_skeleton_refcoords.hdf5')"
   ]
  },
  {
   "cell_type": "code",
   "execution_count": 11,
   "metadata": {},
   "outputs": [
    {
     "name": "stdout",
     "output_type": "stream",
     "text": [
      "Train Accuracy: 100.00%\n",
      "Test Accuracy: 96.92%\n"
     ]
    }
   ],
   "source": [
    "scores = model.evaluate(X_train, y_train.squeeze().argmax(axis=1), verbose=0)\n",
    "print(\"Train Accuracy: %.2f%%\" % (scores[1]*100))\n",
    "scores = model.evaluate(X_test, y_test.squeeze().argmax(axis=1), verbose=0)\n",
    "print(\"Test Accuracy: %.2f%%\" % (scores[1]*100))"
   ]
  },
  {
   "cell_type": "code",
   "execution_count": 12,
   "metadata": {},
   "outputs": [
    {
     "name": "stdout",
     "output_type": "stream",
     "text": [
      "                   precision    recall  f1-score   support\n",
      "\n",
      "       Swipe Left       0.78      0.88      0.82         8\n",
      "      Swipe Right       1.00      1.00      1.00        11\n",
      "             Wave       1.00      1.00      1.00        12\n",
      "             Clap       1.00      1.00      1.00        12\n",
      "            Throw       0.86      1.00      0.92         6\n",
      "        Arm Cross       1.00      1.00      1.00         8\n",
      " Basketball Shoot       1.00      1.00      1.00         9\n",
      "           Draw X       1.00      0.83      0.91        12\n",
      " Draw Circle (CW)       1.00      0.88      0.93         8\n",
      "Draw Circle (CCW)       0.89      0.80      0.84        10\n",
      "    Draw Triangle       0.70      0.88      0.78         8\n",
      "          Bowling       1.00      0.89      0.94         9\n",
      "           Boxing       1.00      1.00      1.00         8\n",
      "   Baseball Swing       1.00      1.00      1.00        11\n",
      "     Tennis Swing       1.00      1.00      1.00         5\n",
      "         Arm Curl       1.00      1.00      1.00        13\n",
      "     Tennis Serve       1.00      1.00      1.00         9\n",
      "             Push       1.00      1.00      1.00        11\n",
      "            Knock       1.00      1.00      1.00        15\n",
      "            Catch       1.00      1.00      1.00        10\n",
      " Pickup and Throw       1.00      1.00      1.00         7\n",
      "              Jog       1.00      1.00      1.00         9\n",
      "             Walk       1.00      1.00      1.00        13\n",
      "     Sit to Stand       1.00      1.00      1.00         7\n",
      "     Stand to Sit       1.00      1.00      1.00         8\n",
      "            Lunge       0.89      1.00      0.94         8\n",
      "            Squat       1.00      1.00      1.00        13\n",
      "\n",
      "        micro avg       0.97      0.97      0.97       260\n",
      "        macro avg       0.97      0.97      0.97       260\n",
      "     weighted avg       0.97      0.97      0.97       260\n",
      "\n"
     ]
    }
   ],
   "source": [
    "predictions = model.predict(X_test)\n",
    "target_names = ['Swipe Left', 'Swipe Right', 'Wave', 'Clap', 'Throw', 'Arm Cross', 'Basketball Shoot', \n",
    "                'Draw X', 'Draw Circle (CW)', 'Draw Circle (CCW)', 'Draw Triangle', 'Bowling', 'Boxing', \n",
    "                'Baseball Swing', 'Tennis Swing', 'Arm Curl', 'Tennis Serve', 'Push', 'Knock', 'Catch',\n",
    "                'Pickup and Throw', 'Jog', 'Walk', 'Sit to Stand', 'Stand to Sit', 'Lunge', 'Squat']\n",
    "print(classification_report(y_test.argmax(axis=1), predictions.argmax(axis=1), target_names=target_names))"
   ]
  },
  {
   "cell_type": "code",
   "execution_count": 13,
   "metadata": {
    "collapsed": true
   },
   "outputs": [],
   "source": [
    "#from keras.models import load_model\n",
    "#model = load_model('TCN_skeleton_refcoords.hdf5')"
   ]
  },
  {
   "cell_type": "code",
   "execution_count": 14,
   "metadata": {
    "collapsed": true
   },
   "outputs": [],
   "source": [
    "with open('Skeleton model files/TCNRef_Hist', 'wb') as file:\n",
    "    pickle.dump(TCNRef_Hist.history, file)"
   ]
  },
  {
   "cell_type": "code",
   "execution_count": 15,
   "metadata": {},
   "outputs": [
    {
     "data": {
      "image/png": "[encoded data removed]",
      "text/plain": [
       "<matplotlib.figure.Figure at 0x25121181e80>"
      ]
     },
     "metadata": {},
     "output_type": "display_data"
    },
    {
     "data": {
      "image/png": "[encoded data removed]",
      "text/plain": [
       "<matplotlib.figure.Figure at 0x25120e06e80>"
      ]
     },
     "metadata": {},
     "output_type": "display_data"
    }
   ],
   "source": [
    "# summarize history for accuracy\n",
    "plt.plot(TCNRef_Hist.history['acc'])\n",
    "plt.plot(TCNRef_Hist.history['val_acc'])\n",
    "plt.title('model accuracy')\n",
    "plt.ylabel('accuracy')\n",
    "plt.xlabel('epoch')\n",
    "plt.legend(['train', 'test'], loc='upper left')\n",
    "plt.show()\n",
    "# summarize history for loss\n",
    "plt.plot(TCNRef_Hist.history['loss'])\n",
    "plt.plot(TCNRef_Hist.history['val_loss'])\n",
    "plt.title('model loss')\n",
    "plt.ylabel('loss')\n",
    "plt.xlabel('epoch')\n",
    "plt.legend(['train', 'test'], loc='upper left')\n",
    "plt.show()"
   ]
  },
  {
   "cell_type": "code",
   "execution_count": null,
   "metadata": {
    "collapsed": true
   },
   "outputs": [],
   "source": []
  }
 ],
 "metadata": {
  "kernelspec": {
   "display_name": "Python 3",
   "language": "python",
   "name": "python3"
  },
  "language_info": {
   "codemirror_mode": {
    "name": "ipython",
    "version": 3
   },
   "file_extension": ".py",
   "mimetype": "text/x-python",
   "name": "python",
   "nbconvert_exporter": "python",
   "pygments_lexer": "ipython3",
   "version": "3.6.6"
  }
 },
 "nbformat": 4,
 "nbformat_minor": 2
}
