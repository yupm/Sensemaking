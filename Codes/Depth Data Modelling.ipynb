{
 "cells": [
  {
   "cell_type": "markdown",
   "metadata": {},
   "source": [
    "# Activity Classification using depth data\n",
    "\n"
   ]
  },
  {
   "cell_type": "code",
   "execution_count": 1,
   "metadata": {},
   "outputs": [],
   "source": [
    "import scipy.io as sio\n",
    "import numpy as np\n",
    "import pickle\n",
    "from skimage.transform import resize\n",
    "from sklearn.model_selection import train_test_split\n",
    "from sklearn.metrics import accuracy_score\n",
    "from sklearn.metrics import confusion_matrix\n",
    "from xgboost.sklearn import XGBClassifier\n",
    "import matplotlib.pyplot as plt"
   ]
  },
  {
   "cell_type": "markdown",
   "metadata": {},
   "source": [
    "### Pre-define parameters for modelling\n",
    "\n"
   ]
  },
  {
   "cell_type": "code",
   "execution_count": 2,
   "metadata": {},
   "outputs": [],
   "source": [
    "trial_end = 4\n",
    "subject_end =8\n",
    "activity_end = 27\n",
    "scale = 0.25\n",
    "pixels_size = int(240*320*scale)\n",
    "test_size = 0.3"
   ]
  },
  {
   "cell_type": "markdown",
   "metadata": {},
   "source": [
    "### Function to compute target outputs"
   ]
  },
  {
   "cell_type": "code",
   "execution_count": 3,
   "metadata": {},
   "outputs": [],
   "source": [
    "def generate_y(activity_end, subject_end, trial_end):\n",
    "    activities = []\n",
    "    for activity in range(1,activity_end+1):\n",
    "        for subject in range(1,subject_end+1):\n",
    "            for trial in range(1,trial_end+1):\n",
    "                activities.append(activity)\n",
    "    return (np.array(activities))"
   ]
  },
  {
   "cell_type": "markdown",
   "metadata": {},
   "source": [
    "### Function to compute depth motion maps"
   ]
  },
  {
   "cell_type": "code",
   "execution_count": 4,
   "metadata": {},
   "outputs": [],
   "source": [
    "def compute_DMM(activity,subject,trial):\n",
    "    filepath = 'Kinect2Dataset/Depth/a%s_s%s_t%s_depth.mat'% (activity,subject,trial)\n",
    "    data = sio.loadmat(filepath)['d_depth']\n",
    "    \n",
    "    DMMf = np.zeros(shape=(240,320),dtype='int32')\n",
    "    for frame in range(0,data.shape[2]-1):\n",
    "        DMMf = DMMf + abs(data[:,:,frame+1].astype('int32') - data[:,:,frame].astype('int32'))\n",
    "    empty_x, empty_y = [],[]\n",
    "    for x in range(0,DMMf.shape[0]):\n",
    "        if np.sum(DMMf[x,:])==0:\n",
    "            empty_x.append(x)\n",
    "    DMMf = np.delete(DMMf,empty_x,axis=0)\n",
    "    for y in range(0,DMMf.shape[0]):\n",
    "        if np.sum(DMMf[:,y])==0:\n",
    "            empty_y.append(y)\n",
    "    DMMf = np.delete(DMMf,empty_y,axis=1)\n",
    "    DMMf = np.round(resize(DMMf, (120, 160),preserve_range=True),0).astype('int32')\n",
    "    DMMf = np.interp(DMMf, (DMMf.min(), DMMf.max()), (0, 255))\n",
    "    DMMf = DMMf.flatten().tolist()\n",
    "    \n",
    "    DMMs = np.zeros(shape=(240,data.shape[2]),dtype='int32')\n",
    "    for width in range(0,data.shape[1]-1):\n",
    "        DMMs = DMMs + abs(data[:,width+1,:].astype('int32') - data[:,width,:].astype('int32'))\n",
    "    empty_x, empty_y = [],[]\n",
    "    for x in range(0,DMMs.shape[0]):\n",
    "        if np.sum(DMMs[x,:])==0:\n",
    "            empty_x.append(x)\n",
    "    DMMs = np.delete(DMMs,empty_x,axis=0)\n",
    "    for y in range(0,DMMs.shape[0]):\n",
    "        if np.sum(DMMs[y,:])==0:\n",
    "            empty_y.append(y)\n",
    "    DMMs = np.delete(DMMs,empty_y,axis=1)\n",
    "    DMMs = np.round(resize(DMMs, (120, 160),preserve_range=True),0).astype('int32')\n",
    "    DMMs = np.interp(DMMs, (DMMs.min(), DMMs.max()), (0, 255))\n",
    "    DMMs = DMMs.flatten().tolist()\n",
    "    \n",
    "    DMMt = np.zeros(shape=(320,data.shape[2]),dtype='int32')\n",
    "    for height in range(0,data.shape[0]-1):\n",
    "        DMMt = DMMt + abs(data[height+1,:,:].astype('int32') - data[height,:,:].astype('int32'))\n",
    "    empty_x, empty_y = [],[]\n",
    "    for x in range(0,DMMt.shape[0]):\n",
    "        if np.sum(DMMt[x,:])==0:\n",
    "            empty_x.append(x)\n",
    "    DMMt = np.delete(DMMt,empty_x,axis=0)\n",
    "    for y in range(0,DMMt.shape[0]):\n",
    "        if np.sum(DMMt[y,:])==0:\n",
    "            empty_y.append(y)\n",
    "    DMMt = np.delete(DMMt,empty_y,axis=1)\n",
    "    DMMt = np.round(resize(DMMt, (120, 160),preserve_range=True),0).astype('int')\n",
    "    DMMt = np.interp(DMMt, (DMMt.min(), DMMt.max()), (0, 255))\n",
    "    DMMt = DMMt.flatten().tolist()\n",
    "    \n",
    "    return ([DMMf+DMMs+DMMt])"
   ]
  },
  {
   "cell_type": "markdown",
   "metadata": {},
   "source": [
    "### Function to compute depth data inputs"
   ]
  },
  {
   "cell_type": "code",
   "execution_count": 5,
   "metadata": {},
   "outputs": [],
   "source": [
    "def compute_depth_data(activity_end, subject_end, trial_end):\n",
    "    depth_data = np.empty(shape=(0,3*120*160),dtype = 'int32')\n",
    "    for activity in range(1,activity_end+1):\n",
    "        print('loading activity %s' % (activity))\n",
    "        for subject in range(1,subject_end+1):\n",
    "            for trial in range(1,trial_end+1):\n",
    "                depth_data = np.append(depth_data,compute_DMM(activity,subject,trial),axis=0)\n",
    "    return (depth_data)"
   ]
  },
  {
   "cell_type": "markdown",
   "metadata": {},
   "source": [
    "### Function to compute confusion matrix"
   ]
  },
  {
   "cell_type": "code",
   "execution_count": 6,
   "metadata": {},
   "outputs": [],
   "source": [
    "def plot_confusion_matrix(cm, classes,\n",
    "                          normalize=False,\n",
    "                          title='Confusion matrix',\n",
    "                          cmap=plt.cm.Blues):\n",
    "    \"\"\"\n",
    "    This function prints and plots the confusion matrix.\n",
    "    Normalization can be applied by setting `normalize=True`.\n",
    "    \"\"\"\n",
    "    import itertools\n",
    "    if normalize:\n",
    "        cm = cm.astype('float') / cm.sum(axis=1)[:, np.newaxis]\n",
    "        print(\"Normalized confusion matrix\")\n",
    "    else:\n",
    "        print('Confusion matrix')\n",
    "\n",
    "    #print(cm)\n",
    "\n",
    "    plt.imshow(cm, interpolation='nearest', cmap=cmap)\n",
    "    plt.title(title)\n",
    "    plt.colorbar()\n",
    "    tick_marks = np.arange(len(classes))\n",
    "    plt.xticks(tick_marks, classes, rotation=90)\n",
    "    plt.yticks(tick_marks, classes)\n",
    "\n",
    "    fmt = '.2f' if normalize else 'd'\n",
    "    thresh = cm.max() / 2.\n",
    "    for i, j in itertools.product(range(cm.shape[0]), range(cm.shape[1])):\n",
    "        plt.text(j, i, format(cm[i, j], fmt),\n",
    "                 horizontalalignment=\"center\",\n",
    "                 color=\"white\" if cm[i, j] > thresh else \"black\")\n",
    "\n",
    "    plt.ylabel('True label')\n",
    "    plt.xlabel('Predicted label')\n",
    "    plt.tight_layout()"
   ]
  },
  {
   "cell_type": "markdown",
   "metadata": {},
   "source": [
    "### Compute depth data inputs"
   ]
  },
  {
   "cell_type": "code",
   "execution_count": 7,
   "metadata": {},
   "outputs": [
    {
     "name": "stdout",
     "output_type": "stream",
     "text": [
      "loading activity 1\n"
     ]
    },
    {
     "name": "stderr",
     "output_type": "stream",
     "text": [
      "C:\\Users\\ltylt\\Anaconda3\\lib\\site-packages\\skimage\\transform\\_warps.py:84: UserWarning: The default mode, 'constant', will be changed to 'reflect' in skimage 0.15.\n",
      "  warn(\"The default mode, 'constant', will be changed to 'reflect' in \"\n"
     ]
    },
    {
     "name": "stdout",
     "output_type": "stream",
     "text": [
      "loading activity 2\n",
      "loading activity 3\n",
      "loading activity 4\n",
      "loading activity 5\n",
      "loading activity 6\n",
      "loading activity 7\n",
      "loading activity 8\n",
      "loading activity 9\n",
      "loading activity 10\n",
      "loading activity 11\n",
      "loading activity 12\n",
      "loading activity 13\n",
      "loading activity 14\n",
      "loading activity 15\n",
      "loading activity 16\n",
      "loading activity 17\n",
      "loading activity 18\n",
      "loading activity 19\n",
      "loading activity 20\n",
      "loading activity 21\n",
      "loading activity 22\n",
      "loading activity 23\n",
      "loading activity 24\n",
      "loading activity 25\n",
      "loading activity 26\n",
      "loading activity 27\n"
     ]
    }
   ],
   "source": [
    "depth_data = compute_depth_data(activity_end, subject_end, trial_end)\n",
    "\n",
    "picklesave = open(\"depth_data.pickle\", \"wb\")\n",
    "pickle.dump(depth_data, picklesave)\n",
    "picklesave.close()"
   ]
  },
  {
   "cell_type": "markdown",
   "metadata": {},
   "source": [
    "### Compute target outputs\n",
    "\n"
   ]
  },
  {
   "cell_type": "code",
   "execution_count": 8,
   "metadata": {
    "scrolled": false
   },
   "outputs": [],
   "source": [
    "y = generate_y(activity_end, subject_end, trial_end)"
   ]
  },
  {
   "cell_type": "markdown",
   "metadata": {},
   "source": [
    "### Preparing training sets and testing sets"
   ]
  },
  {
   "cell_type": "code",
   "execution_count": 9,
   "metadata": {},
   "outputs": [],
   "source": [
    "xtrain, xtest, ytrain, ytest = train_test_split(depth_data, y, test_size=test_size, random_state=1)"
   ]
  },
  {
   "cell_type": "markdown",
   "metadata": {},
   "source": [
    "### XGboost model for depth data classification"
   ]
  },
  {
   "cell_type": "code",
   "execution_count": 10,
   "metadata": {},
   "outputs": [
    {
     "name": "stdout",
     "output_type": "stream",
     "text": [
      "[0]\tvalidation_0-mlogloss:2.74054\tvalidation_1-mlogloss:2.96034\n",
      "[1]\tvalidation_0-mlogloss:2.33925\tvalidation_1-mlogloss:2.7188\n",
      "[2]\tvalidation_0-mlogloss:2.01268\tvalidation_1-mlogloss:2.52461\n",
      "[3]\tvalidation_0-mlogloss:1.75591\tvalidation_1-mlogloss:2.37466\n",
      "[4]\tvalidation_0-mlogloss:1.54776\tvalidation_1-mlogloss:2.25376\n",
      "[5]\tvalidation_0-mlogloss:1.37715\tvalidation_1-mlogloss:2.15417\n",
      "[6]\tvalidation_0-mlogloss:1.23184\tvalidation_1-mlogloss:2.06381\n",
      "[7]\tvalidation_0-mlogloss:1.10832\tvalidation_1-mlogloss:1.9862\n",
      "[8]\tvalidation_0-mlogloss:1.00108\tvalidation_1-mlogloss:1.91721\n",
      "[9]\tvalidation_0-mlogloss:0.907326\tvalidation_1-mlogloss:1.8584\n",
      "[10]\tvalidation_0-mlogloss:0.823485\tvalidation_1-mlogloss:1.79641\n",
      "[11]\tvalidation_0-mlogloss:0.748209\tvalidation_1-mlogloss:1.73643\n",
      "[12]\tvalidation_0-mlogloss:0.681367\tvalidation_1-mlogloss:1.68114\n",
      "[13]\tvalidation_0-mlogloss:0.621269\tvalidation_1-mlogloss:1.62913\n",
      "[14]\tvalidation_0-mlogloss:0.567483\tvalidation_1-mlogloss:1.57918\n",
      "[15]\tvalidation_0-mlogloss:0.519134\tvalidation_1-mlogloss:1.532\n",
      "[16]\tvalidation_0-mlogloss:0.475612\tvalidation_1-mlogloss:1.49059\n",
      "[17]\tvalidation_0-mlogloss:0.435937\tvalidation_1-mlogloss:1.45182\n",
      "[18]\tvalidation_0-mlogloss:0.40006\tvalidation_1-mlogloss:1.41718\n",
      "[19]\tvalidation_0-mlogloss:0.367746\tvalidation_1-mlogloss:1.3822\n",
      "[20]\tvalidation_0-mlogloss:0.338447\tvalidation_1-mlogloss:1.34818\n",
      "[21]\tvalidation_0-mlogloss:0.311761\tvalidation_1-mlogloss:1.31795\n",
      "[22]\tvalidation_0-mlogloss:0.287698\tvalidation_1-mlogloss:1.29059\n",
      "[23]\tvalidation_0-mlogloss:0.265617\tvalidation_1-mlogloss:1.26232\n",
      "[24]\tvalidation_0-mlogloss:0.245599\tvalidation_1-mlogloss:1.23577\n",
      "[25]\tvalidation_0-mlogloss:0.227255\tvalidation_1-mlogloss:1.21177\n",
      "[26]\tvalidation_0-mlogloss:0.210787\tvalidation_1-mlogloss:1.19065\n",
      "[27]\tvalidation_0-mlogloss:0.195545\tvalidation_1-mlogloss:1.16814\n",
      "[28]\tvalidation_0-mlogloss:0.181747\tvalidation_1-mlogloss:1.15006\n",
      "[29]\tvalidation_0-mlogloss:0.169231\tvalidation_1-mlogloss:1.12712\n",
      "[30]\tvalidation_0-mlogloss:0.157834\tvalidation_1-mlogloss:1.11172\n",
      "[31]\tvalidation_0-mlogloss:0.14711\tvalidation_1-mlogloss:1.09399\n",
      "[32]\tvalidation_0-mlogloss:0.137486\tvalidation_1-mlogloss:1.07747\n",
      "[33]\tvalidation_0-mlogloss:0.128672\tvalidation_1-mlogloss:1.05863\n",
      "[34]\tvalidation_0-mlogloss:0.120547\tvalidation_1-mlogloss:1.04278\n",
      "[35]\tvalidation_0-mlogloss:0.113123\tvalidation_1-mlogloss:1.02791\n",
      "[36]\tvalidation_0-mlogloss:0.106384\tvalidation_1-mlogloss:1.01405\n",
      "[37]\tvalidation_0-mlogloss:0.100066\tvalidation_1-mlogloss:0.998101\n",
      "[38]\tvalidation_0-mlogloss:0.094442\tvalidation_1-mlogloss:0.986528\n",
      "[39]\tvalidation_0-mlogloss:0.089179\tvalidation_1-mlogloss:0.974654\n",
      "[40]\tvalidation_0-mlogloss:0.084425\tvalidation_1-mlogloss:0.961001\n",
      "[41]\tvalidation_0-mlogloss:0.079943\tvalidation_1-mlogloss:0.9497\n",
      "[42]\tvalidation_0-mlogloss:0.075852\tvalidation_1-mlogloss:0.939005\n",
      "[43]\tvalidation_0-mlogloss:0.072027\tvalidation_1-mlogloss:0.929298\n",
      "[44]\tvalidation_0-mlogloss:0.068554\tvalidation_1-mlogloss:0.919969\n",
      "[45]\tvalidation_0-mlogloss:0.06532\tvalidation_1-mlogloss:0.910244\n",
      "[46]\tvalidation_0-mlogloss:0.062307\tvalidation_1-mlogloss:0.900622\n",
      "[47]\tvalidation_0-mlogloss:0.05946\tvalidation_1-mlogloss:0.892867\n",
      "[48]\tvalidation_0-mlogloss:0.056836\tvalidation_1-mlogloss:0.883782\n",
      "[49]\tvalidation_0-mlogloss:0.05438\tvalidation_1-mlogloss:0.875777\n",
      "[50]\tvalidation_0-mlogloss:0.052158\tvalidation_1-mlogloss:0.868838\n",
      "[51]\tvalidation_0-mlogloss:0.050005\tvalidation_1-mlogloss:0.859792\n",
      "[52]\tvalidation_0-mlogloss:0.048049\tvalidation_1-mlogloss:0.852352\n",
      "[53]\tvalidation_0-mlogloss:0.046198\tvalidation_1-mlogloss:0.844431\n",
      "[54]\tvalidation_0-mlogloss:0.044435\tvalidation_1-mlogloss:0.839975\n",
      "[55]\tvalidation_0-mlogloss:0.042841\tvalidation_1-mlogloss:0.833757\n",
      "[56]\tvalidation_0-mlogloss:0.041316\tvalidation_1-mlogloss:0.82775\n",
      "[57]\tvalidation_0-mlogloss:0.039899\tvalidation_1-mlogloss:0.822041\n",
      "[58]\tvalidation_0-mlogloss:0.038586\tvalidation_1-mlogloss:0.81689\n",
      "[59]\tvalidation_0-mlogloss:0.037327\tvalidation_1-mlogloss:0.812354\n",
      "[60]\tvalidation_0-mlogloss:0.036156\tvalidation_1-mlogloss:0.806423\n",
      "[61]\tvalidation_0-mlogloss:0.035015\tvalidation_1-mlogloss:0.801351\n",
      "[62]\tvalidation_0-mlogloss:0.034002\tvalidation_1-mlogloss:0.797081\n",
      "[63]\tvalidation_0-mlogloss:0.033095\tvalidation_1-mlogloss:0.791654\n",
      "[64]\tvalidation_0-mlogloss:0.032241\tvalidation_1-mlogloss:0.787891\n",
      "[65]\tvalidation_0-mlogloss:0.031445\tvalidation_1-mlogloss:0.783613\n",
      "[66]\tvalidation_0-mlogloss:0.030725\tvalidation_1-mlogloss:0.780022\n",
      "[67]\tvalidation_0-mlogloss:0.030114\tvalidation_1-mlogloss:0.776242\n",
      "[68]\tvalidation_0-mlogloss:0.029537\tvalidation_1-mlogloss:0.773619\n",
      "[69]\tvalidation_0-mlogloss:0.029001\tvalidation_1-mlogloss:0.770145\n",
      "[70]\tvalidation_0-mlogloss:0.028471\tvalidation_1-mlogloss:0.767341\n",
      "[71]\tvalidation_0-mlogloss:0.027965\tvalidation_1-mlogloss:0.764654\n",
      "[72]\tvalidation_0-mlogloss:0.027485\tvalidation_1-mlogloss:0.761518\n",
      "[73]\tvalidation_0-mlogloss:0.027017\tvalidation_1-mlogloss:0.759726\n",
      "[74]\tvalidation_0-mlogloss:0.026594\tvalidation_1-mlogloss:0.75638\n",
      "[75]\tvalidation_0-mlogloss:0.026184\tvalidation_1-mlogloss:0.753783\n",
      "[76]\tvalidation_0-mlogloss:0.025788\tvalidation_1-mlogloss:0.751763\n",
      "[77]\tvalidation_0-mlogloss:0.025424\tvalidation_1-mlogloss:0.750157\n",
      "[78]\tvalidation_0-mlogloss:0.025088\tvalidation_1-mlogloss:0.748273\n",
      "[79]\tvalidation_0-mlogloss:0.024762\tvalidation_1-mlogloss:0.747439\n",
      "[80]\tvalidation_0-mlogloss:0.024465\tvalidation_1-mlogloss:0.746139\n",
      "[81]\tvalidation_0-mlogloss:0.024177\tvalidation_1-mlogloss:0.744292\n",
      "[82]\tvalidation_0-mlogloss:0.023943\tvalidation_1-mlogloss:0.743374\n",
      "[83]\tvalidation_0-mlogloss:0.023735\tvalidation_1-mlogloss:0.741838\n",
      "[84]\tvalidation_0-mlogloss:0.023544\tvalidation_1-mlogloss:0.740946\n",
      "[85]\tvalidation_0-mlogloss:0.023358\tvalidation_1-mlogloss:0.740591\n",
      "[86]\tvalidation_0-mlogloss:0.023177\tvalidation_1-mlogloss:0.74009\n",
      "[87]\tvalidation_0-mlogloss:0.023\tvalidation_1-mlogloss:0.739523\n",
      "[88]\tvalidation_0-mlogloss:0.022828\tvalidation_1-mlogloss:0.73848\n",
      "[89]\tvalidation_0-mlogloss:0.022673\tvalidation_1-mlogloss:0.73746\n",
      "[90]\tvalidation_0-mlogloss:0.022528\tvalidation_1-mlogloss:0.736938\n",
      "[91]\tvalidation_0-mlogloss:0.022394\tvalidation_1-mlogloss:0.73686\n",
      "[92]\tvalidation_0-mlogloss:0.022275\tvalidation_1-mlogloss:0.736364\n",
      "[93]\tvalidation_0-mlogloss:0.02216\tvalidation_1-mlogloss:0.735859\n",
      "[94]\tvalidation_0-mlogloss:0.022047\tvalidation_1-mlogloss:0.73558\n",
      "[95]\tvalidation_0-mlogloss:0.021949\tvalidation_1-mlogloss:0.735376\n",
      "[96]\tvalidation_0-mlogloss:0.021867\tvalidation_1-mlogloss:0.735089\n",
      "[97]\tvalidation_0-mlogloss:0.021787\tvalidation_1-mlogloss:0.734736\n",
      "[98]\tvalidation_0-mlogloss:0.02171\tvalidation_1-mlogloss:0.734368\n",
      "[99]\tvalidation_0-mlogloss:0.021643\tvalidation_1-mlogloss:0.734114\n"
     ]
    }
   ],
   "source": [
    "xgb_model = XGBClassifier(max_depth=4, n_estimators = 100, nthread = 2, objective= 'multi:softmax')\n",
    "xgb_model = xgb_model.fit(xtrain, ytrain, eval_metric=['mlogloss'], eval_set=[((xtrain, ytrain)),(xtest, ytest)])\n",
    "\n",
    "picklesave = open(\"xgb_model.pickle\", \"wb\")\n",
    "pickle.dump(xgb_model, picklesave)\n",
    "picklesave.close()"
   ]
  },
  {
   "cell_type": "code",
   "execution_count": 11,
   "metadata": {},
   "outputs": [],
   "source": [
    "yprob = xgb_model.predict_proba(xtest)\n",
    "\n",
    "picklesave = open(\"yprob.pickle\", \"wb\")\n",
    "pickle.dump(yprob, picklesave)\n",
    "picklesave.close()"
   ]
  },
  {
   "cell_type": "code",
   "execution_count": 12,
   "metadata": {},
   "outputs": [
    {
     "name": "stderr",
     "output_type": "stream",
     "text": [
      "C:\\Users\\ltylt\\Anaconda3\\lib\\site-packages\\sklearn\\preprocessing\\label.py:151: DeprecationWarning: The truth value of an empty array is ambiguous. Returning False, but in future this will result in an error. Use `array.size > 0` to check that an array is not empty.\n",
      "  if diff:\n"
     ]
    },
    {
     "data": {
      "text/plain": [
       "0.8192307692307692"
      ]
     },
     "execution_count": 12,
     "metadata": {},
     "output_type": "execute_result"
    }
   ],
   "source": [
    "ypred = xgb_model.predict(xtest)\n",
    "accuracy = accuracy_score(ytest, ypred)\n",
    "accuracy"
   ]
  },
  {
   "cell_type": "markdown",
   "metadata": {},
   "source": [
    "### Plot confusion matrix"
   ]
  },
  {
   "cell_type": "code",
   "execution_count": 13,
   "metadata": {},
   "outputs": [
    {
     "name": "stdout",
     "output_type": "stream",
     "text": [
      "Confusion matrix\n"
     ]
    },
    {
     "data": {
      "image/png": "[encoded data removed]",
      "text/plain": [
       "<matplotlib.figure.Figure at 0x2cdee6f2da0>"
      ]
     },
     "metadata": {},
     "output_type": "display_data"
    }
   ],
   "source": [
    "cnf_matrix = confusion_matrix(ytest, ypred)\n",
    "np.set_printoptions(precision=2)\n",
    "target_names = ['Swipe Left', 'Swipe Right', 'Wave', 'Clap', 'Throw', 'Arm Cross', 'Basketball Shoot', \n",
    "                'Draw X', 'Draw Circle (CW)', 'Draw Circle (CCW)', 'Draw Triangle', 'Bowling', 'Boxing', \n",
    "                'Baseball Swing', 'Tennis Swing', 'Arm Curl', 'Tennis Serve', 'Push', 'Knock', 'Catch',\n",
    "                'Pickup and Throw', 'Jog', 'Walk', 'Sit to Stand', 'Stand to Sit', 'Lunge', 'Squat']\n",
    "plt.figure(figsize=(20,10))\n",
    "plot_confusion_matrix(cnf_matrix, classes=target_names,\n",
    "                      title='Confusion matrix (Test Set)')\n",
    "plt.show()"
   ]
  },
  {
   "cell_type": "code",
   "execution_count": 18,
   "metadata": {},
   "outputs": [
    {
     "name": "stdout",
     "output_type": "stream",
     "text": [
      "                   precision    recall  f1-score   support\n",
      "\n",
      "       Swipe Left       0.56      0.62      0.59         8\n",
      "      Swipe Right       0.90      0.82      0.86        11\n",
      "             Wave       0.91      0.83      0.87        12\n",
      "             Clap       0.58      0.58      0.58        12\n",
      "            Throw       1.00      0.83      0.91         6\n",
      "        Arm Cross       0.67      1.00      0.80         8\n",
      " Basketball Shoot       0.80      0.89      0.84         9\n",
      "           Draw X       1.00      0.75      0.86        12\n",
      " Draw Circle (CW)       0.80      1.00      0.89         8\n",
      "Draw Circle (CCW)       0.75      0.60      0.67        10\n",
      "    Draw Triangle       0.71      0.62      0.67         8\n",
      "          Bowling       0.88      0.78      0.82         9\n",
      "           Boxing       0.67      1.00      0.80         8\n",
      "   Baseball Swing       0.85      1.00      0.92        11\n",
      "     Tennis Swing       0.80      0.80      0.80         5\n",
      "         Arm Curl       0.75      0.69      0.72        13\n",
      "     Tennis Serve       0.90      1.00      0.95         9\n",
      "             Push       0.71      0.45      0.56        11\n",
      "            Knock       0.86      0.80      0.83        15\n",
      "            Catch       0.75      0.90      0.82        10\n",
      " Pickup and Throw       1.00      1.00      1.00         7\n",
      "              Jog       1.00      1.00      1.00         9\n",
      "             Walk       0.77      0.77      0.77        13\n",
      "     Sit to Stand       1.00      1.00      1.00         7\n",
      "     Stand to Sit       1.00      1.00      1.00         8\n",
      "            Lunge       0.78      0.88      0.82         8\n",
      "            Squat       1.00      0.85      0.92        13\n",
      "\n",
      "      avg / total       0.83      0.82      0.82       260\n",
      "\n"
     ]
    }
   ],
   "source": [
    "from sklearn.metrics import classification_report\n",
    "\n",
    "report = classification_report(ytest, ypred, target_names = target_names)\n",
    "print(report)"
   ]
  },
  {
   "cell_type": "code",
   "execution_count": null,
   "metadata": {},
   "outputs": [],
   "source": []
  }
 ],
 "metadata": {
  "kernelspec": {
   "display_name": "Python 3",
   "language": "python",
   "name": "python3"
  },
  "language_info": {
   "codemirror_mode": {
    "name": "ipython",
    "version": 3
   },
   "file_extension": ".py",
   "mimetype": "text/x-python",
   "name": "python",
   "nbconvert_exporter": "python",
   "pygments_lexer": "ipython3",
   "version": "3.6.4"
  }
 },
 "nbformat": 4,
 "nbformat_minor": 2
}
