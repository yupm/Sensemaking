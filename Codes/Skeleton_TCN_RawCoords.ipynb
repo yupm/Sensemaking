{
 "cells": [
  {
   "cell_type": "code",
   "execution_count": 1,
   "metadata": {},
   "outputs": [
    {
     "name": "stderr",
     "output_type": "stream",
     "text": [
      "C:\\Users\\hys19\\Anaconda3\\lib\\site-packages\\h5py\\__init__.py:34: FutureWarning: Conversion of the second argument of issubdtype from `float` to `np.floating` is deprecated. In future, it will be treated as `np.float64 == np.dtype(float).type`.\n",
      "  from ._conv import register_converters as _register_converters\n",
      "Using TensorFlow backend.\n"
     ]
    }
   ],
   "source": [
    "import timeit\n",
    "import scipy.io as sio\n",
    "import scipy\n",
    "import os\n",
    "import random as rn\n",
    "import numpy as np\n",
    "from tensorflow import set_random_seed\n",
    "import tensorflow as tf\n",
    "os.environ['PYTHONHASHSEED'] = '0'\n",
    "os.environ[\"CUDA_VISIBLE_DEVICES\"]=\"-1\"\n",
    "rn.seed(123)\n",
    "np.random.seed(123)\n",
    "set_random_seed(123)\n",
    "tf.set_random_seed(123)\n",
    "session_conf = tf.ConfigProto(intra_op_parallelism_threads=1, inter_op_parallelism_threads=1)\n",
    "sess = tf.Session(graph=tf.get_default_graph(), config=session_conf)\n",
    "from keras import backend as K\n",
    "K.set_session(sess)\n",
    "import pandas as pd\n",
    "from pathlib import Path\n",
    "from keras.callbacks import EarlyStopping, ModelCheckpoint\n",
    "from tcn import compiled_tcn\n",
    "from sklearn.model_selection import train_test_split\n",
    "from sklearn.metrics import confusion_matrix, classification_report\n",
    "from keras.utils import to_categorical\n",
    "import pickle\n",
    "import matplotlib.pyplot as plt\n",
    "%matplotlib inline"
   ]
  },
  {
   "cell_type": "code",
   "execution_count": 2,
   "metadata": {
    "collapsed": true,
    "scrolled": true
   },
   "outputs": [],
   "source": [
    "def import_skeleton_data(action, subject, trial):\n",
    "    filename = f'Kinect2Dataset/Skeleton/a{action}_s{subject}_t{trial}_skeleton.mat'\n",
    "    if Path(filename).is_file():\n",
    "        mat = scipy.io.loadmat(filename)\n",
    "        return mat['d_skel']\n",
    "    else:\n",
    "        return None\n",
    "\n",
    "def transform_skeleton_data(action, subject, trial):\n",
    "    matrices = []\n",
    "    data = import_skeleton_data(action, subject, trial)\n",
    "    if data is None: return None\n",
    "    for frame in range(data.shape[2]):\n",
    "        skelecton_joints = [i + 1 for i in range(20)]\n",
    "        matrix = data[:,:,frame]\n",
    "        matrix = np.insert(matrix, 0, skelecton_joints, axis=1)\n",
    "        matrix = np.insert(matrix, 0, frame, axis=1)\n",
    "        matrices.append(matrix)\n",
    "    result = np.vstack(tuple(matrices))\n",
    "    result = np.insert(result, 0, [[action], [subject], [trial]], axis=1)\n",
    "    return result\n",
    "\n",
    "def transform_skeleton_data_to_df(action, subject, trial):\n",
    "    data = transform_skeleton_data(action, subject, trial)\n",
    "    if data is None: return None\n",
    "    df = pd.DataFrame(data)\n",
    "    df.columns = ['action', 'subject', 'trial', 'frame', 'skeleton_joint', 'x', 'y', 'z']\n",
    "    return df"
   ]
  },
  {
   "cell_type": "code",
   "execution_count": 3,
   "metadata": {
    "collapsed": true
   },
   "outputs": [],
   "source": [
    "# Read in all data\n",
    "trial_end = 4\n",
    "activity_end = 27\n",
    "subject_end = 8\n",
    "\n",
    "master_df = pd.DataFrame({'action': [], 'subject': [], 'trial': [], 'frame': [], 'skeleton_joint':[], 'x':[], 'y':[], 'z':[]})\n",
    "\n",
    "for activity in range(1,activity_end+1):\n",
    "    for subject in range(1,subject_end+1):  \n",
    "        for trial in range(1,trial_end+1):\n",
    "            temp_df = transform_skeleton_data_to_df(activity, subject, trial)\n",
    "            master_df = pd.concat([master_df, temp_df])"
   ]
  },
  {
   "cell_type": "code",
   "execution_count": 4,
   "metadata": {
    "collapsed": true
   },
   "outputs": [],
   "source": [
    "# Transpose skeleton_joint column\n",
    "for skeleton in list(master_df.skeleton_joint.unique()):\n",
    "    temp_df_by_skel = master_df.loc[master_df['skeleton_joint'] == skeleton]\n",
    "    temp_df_by_skel = temp_df_by_skel.rename(columns={'x': 'x'+str(int(skeleton)), \n",
    "                                                      'y': 'y'+str(int(skeleton)), \n",
    "                                                      'z': 'z'+str(int(skeleton))})\n",
    "    temp_df_by_skel = temp_df_by_skel.drop(['skeleton_joint'], axis=1)\n",
    "    if skeleton == 1.0:\n",
    "        transformed = temp_df_by_skel\n",
    "    else:\n",
    "        transformed = transformed.merge(temp_df_by_skel, on=['action','subject','trial','frame'], how='left')\n",
    "transformed = transformed.sort_values(by=['action','subject','trial','frame'])"
   ]
  },
  {
   "cell_type": "code",
   "execution_count": 5,
   "metadata": {},
   "outputs": [
    {
     "data": {
      "text/plain": [
       "((604, 125, 60), (260, 125, 60), (604, 28), (260, 28))"
      ]
     },
     "execution_count": 5,
     "metadata": {},
     "output_type": "execute_result"
    }
   ],
   "source": [
    "# Prepare data for training: Zero padding to ensure sequences are of equal length, Data partition (70%-30%)\n",
    "finalX = []\n",
    "finaly = []\n",
    "for activity in range(1,activity_end+1):\n",
    "    for subject in range(1,subject_end+1):  \n",
    "        for trial in range(1,trial_end+1):\n",
    "            temp = transformed.loc[(transformed['action'] == activity) & \n",
    "                                   (transformed['subject'] == subject) &\n",
    "                                   (transformed['trial'] == trial)]\n",
    "            tempX = temp.filter(regex='[xyz].*')\n",
    "            tempX = tempX.values\n",
    "            tempy = temp['action'].values[0]\n",
    "            finaly.append(tempy)\n",
    "            npad = ((125-tempX.shape[0], 0), (0, 0))\n",
    "            tempX = np.pad(tempX, pad_width=npad, mode='constant', constant_values=0)\n",
    "            finalX.append(tempX)\n",
    "            \n",
    "finalX = np.stack(finalX)\n",
    "finaly = np.stack(finaly)\n",
    "finaly = to_categorical(finaly)\n",
    "\n",
    "X_train, X_test, y_train, y_test = train_test_split(finalX, finaly, test_size=0.3, random_state=1)\n",
    "X_train.shape, X_test.shape, y_train.shape, y_test.shape"
   ]
  },
  {
   "cell_type": "code",
   "execution_count": 8,
   "metadata": {},
   "outputs": [
    {
     "name": "stdout",
     "output_type": "stream",
     "text": [
      "x.shape= (?, 50)\n",
      "model.x = (?, 125, 60)\n",
      "model.y = (?, 28)\n",
      "Adam with norm clipping.\n"
     ]
    }
   ],
   "source": [
    "# Temporal Convolutional Network (TCN)\n",
    "# https://github.com/philipperemy/keras-tcn\n",
    "model = compiled_tcn(return_sequences=False,\n",
    "                        num_feat=X_train.shape[2],\n",
    "                        num_classes=y_train.shape[1],\n",
    "                        nb_filters=50,\n",
    "                        kernel_size=20,\n",
    "                        dilations=[2 ** i for i in range(3)],\n",
    "                        nb_stacks=1,\n",
    "                        max_len=X_train[0:1].shape[1],\n",
    "                        activation='norm_relu',\n",
    "                        use_skip_connections=True)"
   ]
  },
  {
   "cell_type": "code",
   "execution_count": 9,
   "metadata": {},
   "outputs": [
    {
     "name": "stdout",
     "output_type": "stream",
     "text": [
      "__________________________________________________________________________________________________\n",
      "Layer (type)                    Output Shape         Param #     Connected to                     \n",
      "==================================================================================================\n",
      "input_2 (InputLayer)            (None, 125, 60)      0                                            \n",
      "__________________________________________________________________________________________________\n",
      "tcn_initial_conv (Conv1D)       (None, 125, 50)      3050        input_2[0][0]                    \n",
      "__________________________________________________________________________________________________\n",
      "tcn_dilated_conv_1_tanh_s0 (Con (None, 125, 50)      50050       tcn_initial_conv[0][0]           \n",
      "__________________________________________________________________________________________________\n",
      "activation_7 (Activation)       (None, 125, 50)      0           tcn_dilated_conv_1_tanh_s0[0][0] \n",
      "__________________________________________________________________________________________________\n",
      "lambda_6 (Lambda)               (None, 125, 50)      0           activation_7[0][0]               \n",
      "__________________________________________________________________________________________________\n",
      "tcn_spatial_dropout1d_1_s0_0.05 (None, 125, 50)      0           lambda_6[0][0]                   \n",
      "__________________________________________________________________________________________________\n",
      "conv1d_5 (Conv1D)               (None, 125, 50)      2550        tcn_spatial_dropout1d_1_s0_0.0500\n",
      "__________________________________________________________________________________________________\n",
      "add_6 (Add)                     (None, 125, 50)      0           tcn_initial_conv[0][0]           \n",
      "                                                                 conv1d_5[0][0]                   \n",
      "__________________________________________________________________________________________________\n",
      "tcn_dilated_conv_2_tanh_s0 (Con (None, 125, 50)      50050       add_6[0][0]                      \n",
      "__________________________________________________________________________________________________\n",
      "activation_8 (Activation)       (None, 125, 50)      0           tcn_dilated_conv_2_tanh_s0[0][0] \n",
      "__________________________________________________________________________________________________\n",
      "lambda_7 (Lambda)               (None, 125, 50)      0           activation_8[0][0]               \n",
      "__________________________________________________________________________________________________\n",
      "tcn_spatial_dropout1d_2_s0_0.05 (None, 125, 50)      0           lambda_7[0][0]                   \n",
      "__________________________________________________________________________________________________\n",
      "conv1d_6 (Conv1D)               (None, 125, 50)      2550        tcn_spatial_dropout1d_2_s0_0.0500\n",
      "__________________________________________________________________________________________________\n",
      "add_7 (Add)                     (None, 125, 50)      0           add_6[0][0]                      \n",
      "                                                                 conv1d_6[0][0]                   \n",
      "__________________________________________________________________________________________________\n",
      "tcn_dilated_conv_4_tanh_s0 (Con (None, 125, 50)      50050       add_7[0][0]                      \n",
      "__________________________________________________________________________________________________\n",
      "activation_9 (Activation)       (None, 125, 50)      0           tcn_dilated_conv_4_tanh_s0[0][0] \n",
      "__________________________________________________________________________________________________\n",
      "lambda_8 (Lambda)               (None, 125, 50)      0           activation_9[0][0]               \n",
      "__________________________________________________________________________________________________\n",
      "tcn_spatial_dropout1d_4_s0_0.05 (None, 125, 50)      0           lambda_8[0][0]                   \n",
      "__________________________________________________________________________________________________\n",
      "conv1d_7 (Conv1D)               (None, 125, 50)      2550        tcn_spatial_dropout1d_4_s0_0.0500\n",
      "__________________________________________________________________________________________________\n",
      "add_9 (Add)                     (None, 125, 50)      0           conv1d_5[0][0]                   \n",
      "                                                                 conv1d_6[0][0]                   \n",
      "                                                                 conv1d_7[0][0]                   \n",
      "__________________________________________________________________________________________________\n",
      "activation_10 (Activation)      (None, 125, 50)      0           add_9[0][0]                      \n",
      "__________________________________________________________________________________________________\n",
      "lambda_9 (Lambda)               (None, 50)           0           activation_10[0][0]              \n",
      "__________________________________________________________________________________________________\n",
      "dense_2 (Dense)                 (None, 28)           1428        lambda_9[0][0]                   \n",
      "__________________________________________________________________________________________________\n",
      "activation_11 (Activation)      (None, 28)           0           dense_2[0][0]                    \n",
      "==================================================================================================\n",
      "Total params: 162,278\n",
      "Trainable params: 162,278\n",
      "Non-trainable params: 0\n",
      "__________________________________________________________________________________________________\n",
      "None\n"
     ]
    }
   ],
   "source": [
    "print(model.summary())"
   ]
  },
  {
   "cell_type": "code",
   "execution_count": 8,
   "metadata": {
    "collapsed": true
   },
   "outputs": [],
   "source": [
    "# Stop training when validation loss doesn't improve after 30 epochs\n",
    "# Save the best model in terms of validation loss\n",
    "earlyStopping = EarlyStopping(monitor='val_loss', patience=30, verbose=0, mode='min')\n",
    "mcp_save = ModelCheckpoint('Skeleton model files/TCN_skeleton_rawcoords.hdf5', save_best_only=True, monitor='val_loss', mode='min')"
   ]
  },
  {
   "cell_type": "code",
   "execution_count": 9,
   "metadata": {},
   "outputs": [
    {
     "name": "stdout",
     "output_type": "stream",
     "text": [
      "Train on 604 samples, validate on 260 samples\n",
      "Epoch 1/10000\n",
      "604/604 [==============================] - 11s 19ms/step - loss: 3.3557 - acc: 0.0397 - val_loss: 3.3323 - val_acc: 0.0346\n",
      "Epoch 2/10000\n",
      "604/604 [==============================] - 11s 18ms/step - loss: 3.3182 - acc: 0.0348 - val_loss: 3.3281 - val_acc: 0.0308\n",
      "Epoch 3/10000\n",
      "604/604 [==============================] - 11s 18ms/step - loss: 3.2966 - acc: 0.0579 - val_loss: 3.3167 - val_acc: 0.0577\n",
      "Epoch 4/10000\n",
      "604/604 [==============================] - 11s 17ms/step - loss: 3.2526 - acc: 0.0960 - val_loss: 3.2590 - val_acc: 0.0885\n",
      "Epoch 5/10000\n",
      "604/604 [==============================] - 11s 18ms/step - loss: 3.1169 - acc: 0.1440 - val_loss: 3.1101 - val_acc: 0.1077\n",
      "Epoch 6/10000\n",
      "604/604 [==============================] - 11s 17ms/step - loss: 2.8869 - acc: 0.1772 - val_loss: 2.9787 - val_acc: 0.1000\n",
      "Epoch 7/10000\n",
      "604/604 [==============================] - 11s 18ms/step - loss: 2.6546 - acc: 0.2136 - val_loss: 2.6121 - val_acc: 0.2192\n",
      "Epoch 8/10000\n",
      "604/604 [==============================] - 10s 17ms/step - loss: 2.3427 - acc: 0.3179 - val_loss: 2.2955 - val_acc: 0.2692\n",
      "Epoch 9/10000\n",
      "604/604 [==============================] - 11s 18ms/step - loss: 2.0677 - acc: 0.3427 - val_loss: 2.0608 - val_acc: 0.3462\n",
      "Epoch 10/10000\n",
      "604/604 [==============================] - 11s 18ms/step - loss: 1.8497 - acc: 0.4222 - val_loss: 1.8667 - val_acc: 0.3923\n",
      "Epoch 11/10000\n",
      "604/604 [==============================] - 11s 17ms/step - loss: 1.6906 - acc: 0.4553 - val_loss: 1.7272 - val_acc: 0.4500\n",
      "Epoch 12/10000\n",
      "604/604 [==============================] - 11s 18ms/step - loss: 1.5513 - acc: 0.5149 - val_loss: 1.6832 - val_acc: 0.4654\n",
      "Epoch 13/10000\n",
      "604/604 [==============================] - 11s 18ms/step - loss: 1.3970 - acc: 0.5745 - val_loss: 1.4838 - val_acc: 0.4692\n",
      "Epoch 14/10000\n",
      "604/604 [==============================] - 11s 18ms/step - loss: 1.2667 - acc: 0.5944 - val_loss: 1.3320 - val_acc: 0.5769\n",
      "Epoch 15/10000\n",
      "604/604 [==============================] - 11s 18ms/step - loss: 1.1198 - acc: 0.6424 - val_loss: 1.2489 - val_acc: 0.5885\n",
      "Epoch 16/10000\n",
      "604/604 [==============================] - 11s 18ms/step - loss: 1.0311 - acc: 0.6507 - val_loss: 1.1615 - val_acc: 0.6077\n",
      "Epoch 17/10000\n",
      "604/604 [==============================] - 11s 18ms/step - loss: 0.9217 - acc: 0.6937 - val_loss: 1.0712 - val_acc: 0.6962\n",
      "Epoch 18/10000\n",
      "604/604 [==============================] - 11s 17ms/step - loss: 0.8108 - acc: 0.7682 - val_loss: 0.9740 - val_acc: 0.6615\n",
      "Epoch 19/10000\n",
      "604/604 [==============================] - 11s 18ms/step - loss: 0.7585 - acc: 0.7649 - val_loss: 0.8873 - val_acc: 0.7192\n",
      "Epoch 20/10000\n",
      "604/604 [==============================] - 11s 17ms/step - loss: 0.6849 - acc: 0.7964 - val_loss: 0.8503 - val_acc: 0.7038\n",
      "Epoch 21/10000\n",
      "604/604 [==============================] - 11s 17ms/step - loss: 0.6213 - acc: 0.8063 - val_loss: 0.8095 - val_acc: 0.7385\n",
      "Epoch 22/10000\n",
      "604/604 [==============================] - 11s 18ms/step - loss: 0.5685 - acc: 0.8361 - val_loss: 0.6959 - val_acc: 0.7769\n",
      "Epoch 23/10000\n",
      "604/604 [==============================] - 11s 17ms/step - loss: 0.4987 - acc: 0.8477 - val_loss: 0.7967 - val_acc: 0.7308\n",
      "Epoch 24/10000\n",
      "604/604 [==============================] - 11s 18ms/step - loss: 0.4542 - acc: 0.8692 - val_loss: 0.6436 - val_acc: 0.7962\n",
      "Epoch 25/10000\n",
      "604/604 [==============================] - 11s 18ms/step - loss: 0.3916 - acc: 0.8924 - val_loss: 0.6366 - val_acc: 0.7923\n",
      "Epoch 26/10000\n",
      "604/604 [==============================] - 11s 18ms/step - loss: 0.3496 - acc: 0.9056 - val_loss: 0.5584 - val_acc: 0.8154\n",
      "Epoch 27/10000\n",
      "604/604 [==============================] - 11s 18ms/step - loss: 0.3267 - acc: 0.9089 - val_loss: 0.7021 - val_acc: 0.8115\n",
      "Epoch 28/10000\n",
      "604/604 [==============================] - 10s 17ms/step - loss: 0.2921 - acc: 0.9222 - val_loss: 0.5491 - val_acc: 0.8269\n",
      "Epoch 29/10000\n",
      "604/604 [==============================] - 11s 18ms/step - loss: 0.2584 - acc: 0.9172 - val_loss: 0.5553 - val_acc: 0.8115\n",
      "Epoch 30/10000\n",
      "604/604 [==============================] - 10s 17ms/step - loss: 0.2410 - acc: 0.9387 - val_loss: 0.4607 - val_acc: 0.8269\n",
      "Epoch 31/10000\n",
      "604/604 [==============================] - 11s 18ms/step - loss: 0.1978 - acc: 0.9487 - val_loss: 0.5365 - val_acc: 0.8115\n",
      "Epoch 32/10000\n",
      "604/604 [==============================] - 10s 17ms/step - loss: 0.2160 - acc: 0.9421 - val_loss: 0.6170 - val_acc: 0.8154\n",
      "Epoch 33/10000\n",
      "604/604 [==============================] - 10s 17ms/step - loss: 0.2182 - acc: 0.9437 - val_loss: 0.4944 - val_acc: 0.8077\n",
      "Epoch 34/10000\n",
      "604/604 [==============================] - 10s 17ms/step - loss: 0.1764 - acc: 0.9520 - val_loss: 0.5010 - val_acc: 0.8192\n",
      "Epoch 35/10000\n",
      "604/604 [==============================] - 10s 17ms/step - loss: 0.1505 - acc: 0.9702 - val_loss: 0.4596 - val_acc: 0.8538\n",
      "Epoch 36/10000\n",
      "604/604 [==============================] - 10s 17ms/step - loss: 0.1508 - acc: 0.9553 - val_loss: 0.4121 - val_acc: 0.8385\n",
      "Epoch 37/10000\n",
      "604/604 [==============================] - 10s 17ms/step - loss: 0.1374 - acc: 0.9586 - val_loss: 0.4528 - val_acc: 0.8269\n",
      "Epoch 38/10000\n",
      "604/604 [==============================] - 11s 18ms/step - loss: 0.1185 - acc: 0.9685 - val_loss: 0.4159 - val_acc: 0.8654\n",
      "Epoch 39/10000\n",
      "604/604 [==============================] - 10s 17ms/step - loss: 0.1078 - acc: 0.9768 - val_loss: 0.4577 - val_acc: 0.8500\n",
      "Epoch 40/10000\n",
      "604/604 [==============================] - 10s 17ms/step - loss: 0.1206 - acc: 0.9652 - val_loss: 0.4236 - val_acc: 0.8615\n",
      "Epoch 41/10000\n",
      "604/604 [==============================] - 10s 17ms/step - loss: 0.1010 - acc: 0.9752 - val_loss: 0.5066 - val_acc: 0.8423\n",
      "Epoch 42/10000\n",
      "604/604 [==============================] - 11s 18ms/step - loss: 0.1088 - acc: 0.9685 - val_loss: 0.4875 - val_acc: 0.8500\n",
      "Epoch 43/10000\n",
      "604/604 [==============================] - 11s 18ms/step - loss: 0.1129 - acc: 0.9669 - val_loss: 0.3833 - val_acc: 0.8885\n",
      "Epoch 44/10000\n",
      "604/604 [==============================] - 10s 17ms/step - loss: 0.0697 - acc: 0.9818 - val_loss: 0.4657 - val_acc: 0.8385\n",
      "Epoch 45/10000\n",
      "604/604 [==============================] - 10s 16ms/step - loss: 0.0522 - acc: 0.9950 - val_loss: 0.3687 - val_acc: 0.8846\n",
      "Epoch 46/10000\n",
      "604/604 [==============================] - 10s 17ms/step - loss: 0.0696 - acc: 0.9868 - val_loss: 0.4652 - val_acc: 0.8692\n",
      "Epoch 47/10000\n",
      "604/604 [==============================] - 10s 17ms/step - loss: 0.0667 - acc: 0.9801 - val_loss: 0.5437 - val_acc: 0.8269\n",
      "Epoch 48/10000\n",
      "604/604 [==============================] - 10s 17ms/step - loss: 0.0949 - acc: 0.9702 - val_loss: 0.4597 - val_acc: 0.8577\n",
      "Epoch 49/10000\n",
      "604/604 [==============================] - 11s 18ms/step - loss: 0.0521 - acc: 0.9901 - val_loss: 0.4476 - val_acc: 0.8577\n",
      "Epoch 50/10000\n",
      "604/604 [==============================] - 10s 17ms/step - loss: 0.0617 - acc: 0.9901 - val_loss: 0.3714 - val_acc: 0.8769\n",
      "Epoch 51/10000\n",
      "604/604 [==============================] - 11s 18ms/step - loss: 0.0265 - acc: 0.9983 - val_loss: 0.4230 - val_acc: 0.8692\n",
      "Epoch 52/10000\n",
      "604/604 [==============================] - 11s 18ms/step - loss: 0.0338 - acc: 0.9950 - val_loss: 0.3941 - val_acc: 0.8962\n",
      "Epoch 53/10000\n",
      "604/604 [==============================] - 11s 18ms/step - loss: 0.0457 - acc: 0.9917 - val_loss: 0.4507 - val_acc: 0.8731\n",
      "Epoch 54/10000\n",
      "604/604 [==============================] - 12s 19ms/step - loss: 0.0353 - acc: 0.9917 - val_loss: 0.4152 - val_acc: 0.8808\n",
      "Epoch 55/10000\n",
      "604/604 [==============================] - 11s 17ms/step - loss: 0.0594 - acc: 0.9851 - val_loss: 0.7763 - val_acc: 0.7962\n",
      "Epoch 56/10000\n",
      "604/604 [==============================] - 11s 18ms/step - loss: 0.0467 - acc: 0.9917 - val_loss: 0.4556 - val_acc: 0.8808\n",
      "Epoch 57/10000\n",
      "604/604 [==============================] - 11s 18ms/step - loss: 0.0302 - acc: 0.9934 - val_loss: 0.3814 - val_acc: 0.8923\n",
      "Epoch 58/10000\n",
      "604/604 [==============================] - 11s 18ms/step - loss: 0.0252 - acc: 0.9934 - val_loss: 0.3966 - val_acc: 0.8808\n",
      "Epoch 59/10000\n",
      "604/604 [==============================] - 11s 18ms/step - loss: 0.0273 - acc: 0.9934 - val_loss: 0.3845 - val_acc: 0.8846\n",
      "Epoch 60/10000\n"
     ]
    },
    {
     "name": "stdout",
     "output_type": "stream",
     "text": [
      "604/604 [==============================] - 11s 18ms/step - loss: 0.0215 - acc: 0.9950 - val_loss: 0.5237 - val_acc: 0.8692\n",
      "Epoch 61/10000\n",
      "604/604 [==============================] - 11s 18ms/step - loss: 0.0253 - acc: 0.9950 - val_loss: 0.5884 - val_acc: 0.8308\n",
      "Epoch 62/10000\n",
      "604/604 [==============================] - 11s 18ms/step - loss: 0.0417 - acc: 0.9901 - val_loss: 0.4429 - val_acc: 0.8808\n",
      "Epoch 63/10000\n",
      "604/604 [==============================] - 11s 18ms/step - loss: 0.0163 - acc: 0.9983 - val_loss: 0.4459 - val_acc: 0.8846\n",
      "Epoch 64/10000\n",
      "604/604 [==============================] - 11s 18ms/step - loss: 0.0128 - acc: 0.9983 - val_loss: 0.4339 - val_acc: 0.8731\n",
      "Epoch 65/10000\n",
      "604/604 [==============================] - 11s 17ms/step - loss: 0.0176 - acc: 0.9950 - val_loss: 0.3628 - val_acc: 0.8962\n",
      "Epoch 66/10000\n",
      "604/604 [==============================] - 10s 17ms/step - loss: 0.0183 - acc: 0.9967 - val_loss: 0.5590 - val_acc: 0.8538\n",
      "Epoch 67/10000\n",
      "604/604 [==============================] - 11s 17ms/step - loss: 0.0203 - acc: 0.9983 - val_loss: 0.5239 - val_acc: 0.8692\n",
      "Epoch 68/10000\n",
      "604/604 [==============================] - 11s 18ms/step - loss: 0.0252 - acc: 0.9934 - val_loss: 0.4314 - val_acc: 0.8692\n",
      "Epoch 69/10000\n",
      "604/604 [==============================] - 10s 17ms/step - loss: 0.0146 - acc: 1.0000 - val_loss: 0.4312 - val_acc: 0.8885\n",
      "Epoch 70/10000\n",
      "604/604 [==============================] - 10s 17ms/step - loss: 0.0229 - acc: 0.9967 - val_loss: 0.4018 - val_acc: 0.9000\n",
      "Epoch 71/10000\n",
      "604/604 [==============================] - 10s 17ms/step - loss: 0.0140 - acc: 0.9983 - val_loss: 0.4292 - val_acc: 0.8885\n",
      "Epoch 72/10000\n",
      "604/604 [==============================] - 10s 17ms/step - loss: 0.0102 - acc: 1.0000 - val_loss: 0.4375 - val_acc: 0.9000\n",
      "Epoch 73/10000\n",
      "604/604 [==============================] - 10s 17ms/step - loss: 0.0066 - acc: 1.0000 - val_loss: 0.4316 - val_acc: 0.8923\n",
      "Epoch 74/10000\n",
      "604/604 [==============================] - 11s 17ms/step - loss: 0.0040 - acc: 1.0000 - val_loss: 0.4168 - val_acc: 0.9115\n",
      "Epoch 75/10000\n",
      "604/604 [==============================] - 10s 17ms/step - loss: 0.0052 - acc: 0.9983 - val_loss: 0.4127 - val_acc: 0.8962\n",
      "Epoch 76/10000\n",
      "604/604 [==============================] - 10s 17ms/step - loss: 0.0080 - acc: 0.9983 - val_loss: 0.4743 - val_acc: 0.8808\n",
      "Epoch 77/10000\n",
      "604/604 [==============================] - 10s 17ms/step - loss: 0.0091 - acc: 0.9983 - val_loss: 0.4043 - val_acc: 0.8962\n",
      "Epoch 78/10000\n",
      "604/604 [==============================] - 10s 17ms/step - loss: 0.0048 - acc: 1.0000 - val_loss: 0.4693 - val_acc: 0.8962\n",
      "Epoch 79/10000\n",
      "604/604 [==============================] - 10s 17ms/step - loss: 0.0107 - acc: 0.9983 - val_loss: 0.3639 - val_acc: 0.9154\n",
      "Epoch 80/10000\n",
      "604/604 [==============================] - 10s 17ms/step - loss: 0.0052 - acc: 1.0000 - val_loss: 0.4623 - val_acc: 0.9038\n",
      "Epoch 81/10000\n",
      "604/604 [==============================] - 10s 17ms/step - loss: 0.0076 - acc: 0.9983 - val_loss: 0.4191 - val_acc: 0.8885\n",
      "Epoch 82/10000\n",
      "604/604 [==============================] - 10s 17ms/step - loss: 0.0305 - acc: 0.9884 - val_loss: 0.5119 - val_acc: 0.8731\n",
      "Epoch 83/10000\n",
      "604/604 [==============================] - 10s 17ms/step - loss: 0.0171 - acc: 0.9934 - val_loss: 0.5509 - val_acc: 0.8462\n",
      "Epoch 84/10000\n",
      "604/604 [==============================] - 10s 17ms/step - loss: 0.0358 - acc: 0.9917 - val_loss: 0.4536 - val_acc: 0.9000\n",
      "Epoch 85/10000\n",
      "604/604 [==============================] - 10s 17ms/step - loss: 0.0060 - acc: 1.0000 - val_loss: 0.4861 - val_acc: 0.9000\n",
      "Epoch 86/10000\n",
      "604/604 [==============================] - 11s 17ms/step - loss: 0.0042 - acc: 1.0000 - val_loss: 0.4692 - val_acc: 0.9000\n",
      "Epoch 87/10000\n",
      "604/604 [==============================] - 10s 17ms/step - loss: 0.0046 - acc: 1.0000 - val_loss: 0.3973 - val_acc: 0.9115\n",
      "Epoch 88/10000\n",
      "604/604 [==============================] - 10s 17ms/step - loss: 0.0068 - acc: 1.0000 - val_loss: 0.5808 - val_acc: 0.8769\n",
      "Epoch 89/10000\n",
      "604/604 [==============================] - 10s 17ms/step - loss: 0.0081 - acc: 0.9983 - val_loss: 0.5931 - val_acc: 0.8462\n",
      "Epoch 90/10000\n",
      "604/604 [==============================] - 10s 17ms/step - loss: 0.0081 - acc: 1.0000 - val_loss: 0.5342 - val_acc: 0.8808\n",
      "Epoch 91/10000\n",
      "604/604 [==============================] - 10s 17ms/step - loss: 0.0029 - acc: 1.0000 - val_loss: 0.6075 - val_acc: 0.8500\n",
      "Epoch 92/10000\n",
      "604/604 [==============================] - 10s 17ms/step - loss: 0.0086 - acc: 0.9950 - val_loss: 0.5294 - val_acc: 0.8808\n",
      "Epoch 93/10000\n",
      "604/604 [==============================] - 11s 18ms/step - loss: 0.0037 - acc: 0.9983 - val_loss: 0.5044 - val_acc: 0.8846\n",
      "Epoch 94/10000\n",
      "604/604 [==============================] - 11s 18ms/step - loss: 0.0024 - acc: 1.0000 - val_loss: 0.4834 - val_acc: 0.8923\n",
      "Epoch 95/10000\n",
      "604/604 [==============================] - 11s 19ms/step - loss: 0.0038 - acc: 1.0000 - val_loss: 0.4834 - val_acc: 0.8846\n",
      "Time taken: 1004.637838331755s\n"
     ]
    }
   ],
   "source": [
    "start_time = timeit.default_timer()\n",
    "TCNRaw_Hist = model.fit(X_train, y_train.squeeze().argmax(axis=1), validation_data=(X_test, y_test.squeeze().argmax(axis=1)), epochs=10000, batch_size=32, callbacks=[earlyStopping, mcp_save])\n",
    "elapsed = timeit.default_timer() - start_time\n",
    "print(\"Time taken: \" + str(elapsed) + \"s\")\n",
    "model.load_weights('Skeleton model files/TCN_skeleton_rawcoords.hdf5')"
   ]
  },
  {
   "cell_type": "code",
   "execution_count": 12,
   "metadata": {},
   "outputs": [
    {
     "name": "stdout",
     "output_type": "stream",
     "text": [
      "Train Accuracy: 100.00%\n",
      "Test Accuracy: 89.62%\n"
     ]
    }
   ],
   "source": [
    "scores = model.evaluate(X_train, y_train.squeeze().argmax(axis=1), verbose=0)\n",
    "print(\"Train Accuracy: %.2f%%\" % (scores[1]*100))\n",
    "scores = model.evaluate(X_test, y_test.squeeze().argmax(axis=1), verbose=0)\n",
    "print(\"Test Accuracy: %.2f%%\" % (scores[1]*100))"
   ]
  },
  {
   "cell_type": "code",
   "execution_count": 13,
   "metadata": {},
   "outputs": [
    {
     "name": "stdout",
     "output_type": "stream",
     "text": [
      "                   precision    recall  f1-score   support\n",
      "\n",
      "       Swipe Left       0.78      0.88      0.82         8\n",
      "      Swipe Right       1.00      0.91      0.95        11\n",
      "             Wave       0.71      0.83      0.77        12\n",
      "             Clap       0.91      0.83      0.87        12\n",
      "            Throw       0.80      0.67      0.73         6\n",
      "        Arm Cross       1.00      1.00      1.00         8\n",
      " Basketball Shoot       1.00      0.89      0.94         9\n",
      "           Draw X       1.00      0.75      0.86        12\n",
      " Draw Circle (CW)       1.00      0.62      0.77         8\n",
      "Draw Circle (CCW)       0.80      0.80      0.80        10\n",
      "    Draw Triangle       0.60      0.75      0.67         8\n",
      "          Bowling       1.00      0.89      0.94         9\n",
      "           Boxing       0.78      0.88      0.82         8\n",
      "   Baseball Swing       1.00      1.00      1.00        11\n",
      "     Tennis Swing       1.00      1.00      1.00         5\n",
      "         Arm Curl       0.92      0.85      0.88        13\n",
      "     Tennis Serve       1.00      1.00      1.00         9\n",
      "             Push       0.92      1.00      0.96        11\n",
      "            Knock       0.70      0.93      0.80        15\n",
      "            Catch       0.89      0.80      0.84        10\n",
      " Pickup and Throw       1.00      1.00      1.00         7\n",
      "              Jog       0.90      1.00      0.95         9\n",
      "             Walk       1.00      0.92      0.96        13\n",
      "     Sit to Stand       1.00      1.00      1.00         7\n",
      "     Stand to Sit       1.00      1.00      1.00         8\n",
      "            Lunge       0.89      1.00      0.94         8\n",
      "            Squat       1.00      1.00      1.00        13\n",
      "\n",
      "        micro avg       0.90      0.90      0.90       260\n",
      "        macro avg       0.91      0.90      0.90       260\n",
      "     weighted avg       0.91      0.90      0.90       260\n",
      "\n"
     ]
    }
   ],
   "source": [
    "predictions = model.predict(X_test)\n",
    "target_names = ['Swipe Left', 'Swipe Right', 'Wave', 'Clap', 'Throw', 'Arm Cross', 'Basketball Shoot', \n",
    "                'Draw X', 'Draw Circle (CW)', 'Draw Circle (CCW)', 'Draw Triangle', 'Bowling', 'Boxing', \n",
    "                'Baseball Swing', 'Tennis Swing', 'Arm Curl', 'Tennis Serve', 'Push', 'Knock', 'Catch',\n",
    "                'Pickup and Throw', 'Jog', 'Walk', 'Sit to Stand', 'Stand to Sit', 'Lunge', 'Squat']\n",
    "print(classification_report(y_test.argmax(axis=1), predictions.argmax(axis=1), target_names=target_names))"
   ]
  },
  {
   "cell_type": "code",
   "execution_count": 14,
   "metadata": {
    "collapsed": true
   },
   "outputs": [],
   "source": [
    "#from keras.models import load_model\n",
    "#model = load_model('TCN_skeleton_rawcoords.hdf5')"
   ]
  },
  {
   "cell_type": "code",
   "execution_count": 15,
   "metadata": {
    "collapsed": true
   },
   "outputs": [],
   "source": [
    "with open('Skeleton model files/TCNRaw_Hist', 'wb') as file:\n",
    "    pickle.dump(TCNRaw_Hist.history, file)"
   ]
  },
  {
   "cell_type": "code",
   "execution_count": 16,
   "metadata": {},
   "outputs": [
    {
     "data": {
      "image/png": "[encoded data removed]",
      "text/plain": [
       "<matplotlib.figure.Figure at 0x2535f590ba8>"
      ]
     },
     "metadata": {},
     "output_type": "display_data"
    },
    {
     "data": {
      "image/png": "[encoded data removed]",
      "text/plain": [
       "<matplotlib.figure.Figure at 0x2535f5848d0>"
      ]
     },
     "metadata": {},
     "output_type": "display_data"
    }
   ],
   "source": [
    "# summarize history for accuracy\n",
    "plt.plot(TCNRaw_Hist.history['acc'])\n",
    "plt.plot(TCNRaw_Hist.history['val_acc'])\n",
    "plt.title('model accuracy')\n",
    "plt.ylabel('accuracy')\n",
    "plt.xlabel('epoch')\n",
    "plt.legend(['train', 'test'], loc='upper left')\n",
    "plt.show()\n",
    "# summarize history for loss\n",
    "plt.plot(TCNRaw_Hist.history['loss'])\n",
    "plt.plot(TCNRaw_Hist.history['val_loss'])\n",
    "plt.title('model loss')\n",
    "plt.ylabel('loss')\n",
    "plt.xlabel('epoch')\n",
    "plt.legend(['train', 'test'], loc='upper left')\n",
    "plt.show()"
   ]
  },
  {
   "cell_type": "code",
   "execution_count": null,
   "metadata": {
    "collapsed": true
   },
   "outputs": [],
   "source": []
  }
 ],
 "metadata": {
  "kernelspec": {
   "display_name": "Python 3",
   "language": "python",
   "name": "python3"
  },
  "language_info": {
   "codemirror_mode": {
    "name": "ipython",
    "version": 3
   },
   "file_extension": ".py",
   "mimetype": "text/x-python",
   "name": "python",
   "nbconvert_exporter": "python",
   "pygments_lexer": "ipython3",
   "version": "3.6.6"
  }
 },
 "nbformat": 4,
 "nbformat_minor": 2
}
