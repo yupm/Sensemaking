{
 "cells": [
  {
   "cell_type": "code",
   "execution_count": 1,
   "metadata": {
    "collapsed": true
   },
   "outputs": [],
   "source": [
    "import numpy as np\n",
    "import pickle\n",
    "from utils import plot_confusion_matrix\n",
    "import matplotlib.pyplot as plt\n",
    "%matplotlib inline\n",
    "from sklearn.metrics import confusion_matrix, classification_report, accuracy_score"
   ]
  },
  {
   "cell_type": "code",
   "execution_count": 2,
   "metadata": {
    "collapsed": true
   },
   "outputs": [],
   "source": [
    "y_train = pickle.load( open( \"y_train.pickle\", \"rb\" ) )\n",
    "y_test = pickle.load( open( \"y_test.pickle\", \"rb\" ) )\n",
    "depth_prob_train = pickle.load( open( \"ytrain_proba.pickle\", \"rb\" ) )\n",
    "depth_prob_test = pickle.load( open( \"yprob.pickle\", \"rb\" ) )\n",
    "skeleton_prob_train = pickle.load( open( \"skeleton_pred_train.pickle\", \"rb\" ) )\n",
    "skeleton_prob_test = pickle.load( open( \"skeleton_pred_test.pickle\", \"rb\" ) )\n",
    "inertia_prob_train = pickle.load( open( \"inertia_pred_train.pickle\", \"rb\" ) )\n",
    "inertia_prob_test = pickle.load( open( \"inertia_pred_test.pickle\", \"rb\" ) )"
   ]
  },
  {
   "cell_type": "code",
   "execution_count": 3,
   "metadata": {},
   "outputs": [
    {
     "data": {
      "text/plain": [
       "((604, 27), (260, 27), (604, 27), (260, 27), (604, 27), (260, 27))"
      ]
     },
     "execution_count": 3,
     "metadata": {},
     "output_type": "execute_result"
    }
   ],
   "source": [
    "skeleton_prob_train.shape, skeleton_prob_test.shape, depth_prob_train.shape, depth_prob_test.shape, inertia_prob_train.shape, inertia_prob_test.shape"
   ]
  },
  {
   "cell_type": "markdown",
   "metadata": {},
   "source": [
    "### Soft Voting: Predicts the class label based on the maximum of the averages of predicted probabilities (all sensors)"
   ]
  },
  {
   "cell_type": "code",
   "execution_count": 4,
   "metadata": {
    "collapsed": true
   },
   "outputs": [],
   "source": [
    "ensemble_prob_train = (depth_prob_train + skeleton_prob_train + inertia_prob_train)/3\n",
    "ensemble_pred_train = ensemble_prob_train.argmax(axis=1)+1\n",
    "ensemble_prob_test = (depth_prob_test + skeleton_prob_test + inertia_prob_test)/3\n",
    "ensemble_pred_test = ensemble_prob_test.argmax(axis=1)+1"
   ]
  },
  {
   "cell_type": "code",
   "execution_count": 5,
   "metadata": {
    "scrolled": true
   },
   "outputs": [
    {
     "name": "stdout",
     "output_type": "stream",
     "text": [
      "Soft Voting Ensemble:\n",
      "Train Accuracy: 100.00%\n",
      "Test Accuracy: 92.31%\n"
     ]
    }
   ],
   "source": [
    "# Test Set Accuracy\n",
    "print(\"Soft Voting Ensemble:\")\n",
    "accuracy = accuracy_score(y_train.argmax(axis=1), ensemble_pred_train)\n",
    "print(\"Train Accuracy: %.2f%%\" % (accuracy*100))\n",
    "accuracy = accuracy_score(y_test.argmax(axis=1), ensemble_pred_test)\n",
    "print(\"Test Accuracy: %.2f%%\" % (accuracy*100))"
   ]
  },
  {
   "cell_type": "markdown",
   "metadata": {},
   "source": [
    "### Soft Voting: Predicts the class label based on the maximum of the averages of predicted probabilities (Skeleton and Inertia)"
   ]
  },
  {
   "cell_type": "code",
   "execution_count": 6,
   "metadata": {
    "collapsed": true
   },
   "outputs": [],
   "source": [
    "ensemble_prob_train = (skeleton_prob_train + inertia_prob_train)/2\n",
    "ensemble_pred_train = ensemble_prob_train.argmax(axis=1)+1\n",
    "ensemble_prob_test = (skeleton_prob_test + inertia_prob_test)/2\n",
    "ensemble_pred_test = ensemble_prob_test.argmax(axis=1)+1"
   ]
  },
  {
   "cell_type": "code",
   "execution_count": 7,
   "metadata": {},
   "outputs": [
    {
     "name": "stdout",
     "output_type": "stream",
     "text": [
      "Soft Voting Ensemble:\n",
      "Train Accuracy: 100.00%\n",
      "Test Accuracy: 94.62%\n"
     ]
    }
   ],
   "source": [
    "# Test Set Accuracy\n",
    "print(\"Soft Voting Ensemble:\")\n",
    "accuracy = accuracy_score(y_train.argmax(axis=1), ensemble_pred_train)\n",
    "print(\"Train Accuracy: %.2f%%\" % (accuracy*100))\n",
    "accuracy = accuracy_score(y_test.argmax(axis=1), ensemble_pred_test)\n",
    "print(\"Test Accuracy: %.2f%%\" % (accuracy*100))"
   ]
  },
  {
   "cell_type": "markdown",
   "metadata": {},
   "source": [
    "### Stacked Ensemble (all sensors) using Logistic Regression"
   ]
  },
  {
   "cell_type": "code",
   "execution_count": 8,
   "metadata": {
    "collapsed": true
   },
   "outputs": [],
   "source": [
    "trainX = np.concatenate((skeleton_prob_train,depth_prob_train,inertia_prob_train),axis=1)\n",
    "testX = np.concatenate((skeleton_prob_test,depth_prob_test,inertia_prob_test),axis=1)"
   ]
  },
  {
   "cell_type": "code",
   "execution_count": 9,
   "metadata": {
    "collapsed": true
   },
   "outputs": [],
   "source": [
    "trainY = y_train.argmax(axis=1)"
   ]
  },
  {
   "cell_type": "code",
   "execution_count": 10,
   "metadata": {},
   "outputs": [
    {
     "data": {
      "text/plain": [
       "LogisticRegression(C=10, class_weight=None, dual=False, fit_intercept=True,\n",
       "          intercept_scaling=1, max_iter=100, multi_class='auto',\n",
       "          n_jobs=None, penalty='l2', random_state=123, solver='lbfgs',\n",
       "          tol=0.0001, verbose=0, warm_start=False)"
      ]
     },
     "execution_count": 10,
     "metadata": {},
     "output_type": "execute_result"
    }
   ],
   "source": [
    "from sklearn.linear_model import LogisticRegression\n",
    "logreg = LogisticRegression(C=10, solver='lbfgs', multi_class='auto', random_state=123)\n",
    "logreg.fit(trainX, trainY)"
   ]
  },
  {
   "cell_type": "code",
   "execution_count": 11,
   "metadata": {},
   "outputs": [
    {
     "name": "stdout",
     "output_type": "stream",
     "text": [
      "Stacking Ensemble:\n",
      "Train Accuracy: 100.00%\n",
      "Test Accuracy: 91.15%\n"
     ]
    }
   ],
   "source": [
    "# Train Set Accuracy\n",
    "print(\"Stacking Ensemble:\")\n",
    "accuracy = accuracy_score(y_train.argmax(axis=1), logreg.predict(trainX))\n",
    "print(\"Train Accuracy: %.2f%%\" % (accuracy*100))\n",
    "accuracy = accuracy_score(y_test.argmax(axis=1), logreg.predict(testX))\n",
    "print(\"Test Accuracy: %.2f%%\" % (accuracy*100))"
   ]
  },
  {
   "cell_type": "markdown",
   "metadata": {},
   "source": [
    "### Stacked Ensemble (Skeleton and Inertia sensors) using Logistic Regression"
   ]
  },
  {
   "cell_type": "code",
   "execution_count": 12,
   "metadata": {
    "collapsed": true
   },
   "outputs": [],
   "source": [
    "trainX = np.concatenate((skeleton_prob_train,inertia_prob_train),axis=1)\n",
    "testX = np.concatenate((skeleton_prob_test,inertia_prob_test),axis=1)"
   ]
  },
  {
   "cell_type": "code",
   "execution_count": 13,
   "metadata": {
    "collapsed": true
   },
   "outputs": [],
   "source": [
    "trainY = y_train.argmax(axis=1)"
   ]
  },
  {
   "cell_type": "code",
   "execution_count": 14,
   "metadata": {},
   "outputs": [
    {
     "data": {
      "text/plain": [
       "LogisticRegression(C=10, class_weight=None, dual=False, fit_intercept=True,\n",
       "          intercept_scaling=1, max_iter=100, multi_class='auto',\n",
       "          n_jobs=None, penalty='l2', random_state=123, solver='lbfgs',\n",
       "          tol=0.0001, verbose=0, warm_start=False)"
      ]
     },
     "execution_count": 14,
     "metadata": {},
     "output_type": "execute_result"
    }
   ],
   "source": [
    "from sklearn.linear_model import LogisticRegression\n",
    "logreg = LogisticRegression(C=10, solver='lbfgs', multi_class='auto', random_state=123)\n",
    "logreg.fit(trainX, trainY)"
   ]
  },
  {
   "cell_type": "code",
   "execution_count": 15,
   "metadata": {},
   "outputs": [
    {
     "name": "stdout",
     "output_type": "stream",
     "text": [
      "Stacking Ensemble:\n",
      "Train Accuracy: 100.00%\n",
      "Test Accuracy: 94.62%\n"
     ]
    }
   ],
   "source": [
    "# Train Set Accuracy\n",
    "print(\"Stacking Ensemble:\")\n",
    "accuracy = accuracy_score(y_train.argmax(axis=1), logreg.predict(trainX))\n",
    "print(\"Train Accuracy: %.2f%%\" % (accuracy*100))\n",
    "accuracy = accuracy_score(y_test.argmax(axis=1), logreg.predict(testX))\n",
    "print(\"Test Accuracy: %.2f%%\" % (accuracy*100))"
   ]
  },
  {
   "cell_type": "code",
   "execution_count": null,
   "metadata": {
    "collapsed": true
   },
   "outputs": [],
   "source": []
  }
 ],
 "metadata": {
  "kernelspec": {
   "display_name": "Python 3",
   "language": "python",
   "name": "python3"
  },
  "language_info": {
   "codemirror_mode": {
    "name": "ipython",
    "version": 3
   },
   "file_extension": ".py",
   "mimetype": "text/x-python",
   "name": "python",
   "nbconvert_exporter": "python",
   "pygments_lexer": "ipython3",
   "version": "3.6.6"
  }
 },
 "nbformat": 4,
 "nbformat_minor": 2
}
